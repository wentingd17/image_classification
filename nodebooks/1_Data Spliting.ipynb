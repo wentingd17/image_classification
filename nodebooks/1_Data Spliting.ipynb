{
 "cells": [
  {
   "cell_type": "code",
   "execution_count": 1,
   "metadata": {},
   "outputs": [],
   "source": [
    "import pandas as pd\n",
    "import numpy as np\n",
    "import os\n",
    "\n",
    "import shutil\n",
    "from keras.utils import np_utils\n",
    "from keras.applications import mobilenet_v2\n",
    "from keras.preprocessing import image"
   ]
  },
  {
   "cell_type": "code",
   "execution_count": 2,
   "metadata": {},
   "outputs": [
    {
     "data": {
      "text/plain": [
       "['paper', '.DS_Store', 'metal', 'cardboard', 'trash', 'glass', 'plastic']"
      ]
     },
     "execution_count": 2,
     "metadata": {},
     "output_type": "execute_result"
    }
   ],
   "source": [
    "os.listdir(os.path.join(os.getcwd(),'dataset-resized'))"
   ]
  },
  {
   "cell_type": "code",
   "execution_count": 3,
   "metadata": {},
   "outputs": [],
   "source": [
    "#Create folders for validation data\n",
    "os.mkdir('val')\n",
    "source_path = '/Users/wentingdeng/Desktop/image_classification/val'"
   ]
  },
  {
   "cell_type": "code",
   "execution_count": 4,
   "metadata": {},
   "outputs": [],
   "source": [
    "folder_names = ['paper', 'metal', 'cardboard', 'trash', 'glass', 'plastic']\n",
    "\n",
    "for i in folder_names:\n",
    "    sub_path = i\n",
    "    path = os.path.join(source_path, i)\n",
    "    os.mkdir(path)"
   ]
  },
  {
   "cell_type": "code",
   "execution_count": 5,
   "metadata": {},
   "outputs": [],
   "source": [
    "#Split 20% pctures into validation dataset\n",
    "for folder in folder_names:\n",
    "    source_path = os.path.join(os.getcwd(), 'dataset-resized',folder)\n",
    "    pics = os.listdir(source_path)\n",
    "    random_files = np.random.choice(pics, int(len(pics)*.2), replace = False)\n",
    "    for i in random_files:\n",
    "        shutil.move(os.path.join(source_path, i), os.path.join(os.getcwd(), 'val', folder))\n",
    "        "
   ]
  },
  {
   "cell_type": "code",
   "execution_count": 6,
   "metadata": {},
   "outputs": [],
   "source": [
    "#Create folders for training data\n",
    "os.mkdir('train')\n",
    "source_path = '/Users/wentingdeng/Desktop/image_classification/train'"
   ]
  },
  {
   "cell_type": "code",
   "execution_count": 7,
   "metadata": {},
   "outputs": [],
   "source": [
    "for i in folder_names:\n",
    "    sub_path = i\n",
    "    path = os.path.join(source_path, i)\n",
    "    os.mkdir(path)"
   ]
  },
  {
   "cell_type": "code",
   "execution_count": 8,
   "metadata": {},
   "outputs": [],
   "source": [
    "#Split 70% samples from pictures that are left from previous step as the training data\n",
    "for folder in folder_names:\n",
    "    source_path = os.path.join(os.getcwd(), 'dataset-resized',folder)\n",
    "    pics = os.listdir(source_path)\n",
    "    random_files = np.random.choice(pics, int(len(pics)*.70), replace = False)\n",
    "    for i in random_files:\n",
    "        shutil.move(os.path.join(source_path, i), os.path.join(os.getcwd(), 'train', folder))\n",
    "        "
   ]
  },
  {
   "cell_type": "code",
   "execution_count": 9,
   "metadata": {},
   "outputs": [],
   "source": [
    "#Create folders for test data\n",
    "os.mkdir('test')\n",
    "source_path = '/Users/wentingdeng/Desktop/image_classification/test'"
   ]
  },
  {
   "cell_type": "code",
   "execution_count": 10,
   "metadata": {},
   "outputs": [],
   "source": [
    "for i in folder_names:\n",
    "    sub_path = i\n",
    "    path = os.path.join(source_path, i)\n",
    "    os.mkdir(path)"
   ]
  },
  {
   "cell_type": "code",
   "execution_count": 11,
   "metadata": {},
   "outputs": [],
   "source": [
    "#Move pictures that are left from previous steps into test data folder\n",
    "for folder in folder_names:\n",
    "    source_path = os.path.join(os.getcwd(), 'dataset-resized',folder)\n",
    "    pics = os.listdir(source_path)\n",
    "    random_files = np.random.choice(pics, int(len(pics)*1), replace = False)\n",
    "    for i in random_files:\n",
    "        shutil.move(os.path.join(source_path, i), os.path.join(os.getcwd(), 'test', folder))"
   ]
  },
  {
   "cell_type": "code",
   "execution_count": 12,
   "metadata": {},
   "outputs": [],
   "source": [
    "#move all folder into data foler\n",
    "os.mkdir('data')"
   ]
  },
  {
   "cell_type": "code",
   "execution_count": 13,
   "metadata": {},
   "outputs": [
    {
     "data": {
      "text/plain": [
       "'/Users/wentingdeng/Desktop/image_classification/data/test'"
      ]
     },
     "execution_count": 13,
     "metadata": {},
     "output_type": "execute_result"
    }
   ],
   "source": [
    "shutil.move('/Users/wentingdeng/Desktop/image_classification/val', '/Users/wentingdeng/Desktop/image_classification/data')\n",
    "shutil.move('/Users/wentingdeng/Desktop/image_classification/train', '/Users/wentingdeng/Desktop/image_classification/data')\n",
    "shutil.move('/Users/wentingdeng/Desktop/image_classification/test', '/Users/wentingdeng/Desktop/image_classification/data')"
   ]
  },
  {
   "cell_type": "code",
   "execution_count": 14,
   "metadata": {},
   "outputs": [],
   "source": [
    "#Directory of training, test and validation folders\n",
    "train_dir = os.path.join(os.getcwd(), \"data\", \"train\")\n",
    "test_dir = os.path.join(os.getcwd(), \"data\", \"test\")    \n",
    "val_dir = os.path.join(os.getcwd(), \"data\", \"val\")        "
   ]
  },
  {
   "cell_type": "code",
   "execution_count": 15,
   "metadata": {},
   "outputs": [],
   "source": [
    "#Directories of data\n",
    "train_cardboard = os.path.join(train_dir, \"cardboard\")\n",
    "train_glass = os.path.join(train_dir, \"glass\")\n",
    "train_metal = os.path.join(train_dir, \"metal\")\n",
    "train_paper = os.path.join(train_dir, \"paper\")\n",
    "train_plastic = os.path.join(train_dir, \"plastic\")\n",
    "train_trash = os.path.join(train_dir, \"trash\")\n",
    "\n",
    "test_cardboard = os.path.join(test_dir, \"cardboard\")\n",
    "test_glass = os.path.join(test_dir, \"glass\")\n",
    "test_metal = os.path.join(test_dir, \"metal\")\n",
    "test_paper = os.path.join(test_dir, \"paper\")\n",
    "test_plastic = os.path.join(test_dir, \"plastic\")\n",
    "test_trash = os.path.join(test_dir, \"trash\")"
   ]
  },
  {
   "cell_type": "code",
   "execution_count": 16,
   "metadata": {},
   "outputs": [
    {
     "name": "stdout",
     "output_type": "stream",
     "text": [
      "total training cardboard: 226\n",
      "total training glass: 280\n",
      "total training metal: 229\n",
      "total training paper: 333\n",
      "total training plastic: 270\n",
      "total training trash: 77\n"
     ]
    }
   ],
   "source": [
    "print('total training cardboard:', len(os.listdir(train_cardboard)))\n",
    "print('total training glass:', len(os.listdir(train_glass)))\n",
    "print('total training metal:', len(os.listdir(train_metal)))\n",
    "print('total training paper:', len(os.listdir(train_paper)))\n",
    "print('total training plastic:', len(os.listdir(train_plastic)))\n",
    "print('total training trash:', len(os.listdir(train_trash)))"
   ]
  },
  {
   "cell_type": "code",
   "execution_count": 17,
   "metadata": {},
   "outputs": [
    {
     "name": "stdout",
     "output_type": "stream",
     "text": [
      "total test cardboard: 97\n",
      "total test glass: 121\n",
      "total test metal: 99\n",
      "total test paper: 143\n",
      "total test plastic: 116\n",
      "total test trash: 33\n"
     ]
    }
   ],
   "source": [
    "print('total test cardboard:', len(os.listdir(test_cardboard)))\n",
    "print('total test glass:', len(os.listdir(test_glass)))\n",
    "print('total test metal:', len(os.listdir(test_metal)))\n",
    "print('total test paper:', len(os.listdir(test_paper)))\n",
    "print('total test plastic:', len(os.listdir(test_plastic)))\n",
    "print('total test trash:', len(os.listdir(test_trash)))"
   ]
  },
  {
   "cell_type": "code",
   "execution_count": null,
   "metadata": {},
   "outputs": [],
   "source": []
  }
 ],
 "metadata": {
  "kernelspec": {
   "display_name": "firstEnv",
   "language": "python",
   "name": "firstenv"
  },
  "language_info": {
   "codemirror_mode": {
    "name": "ipython",
    "version": 3
   },
   "file_extension": ".py",
   "mimetype": "text/x-python",
   "name": "python",
   "nbconvert_exporter": "python",
   "pygments_lexer": "ipython3",
   "version": "3.9.4"
  }
 },
 "nbformat": 4,
 "nbformat_minor": 4
}
