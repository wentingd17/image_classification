{
  "nbformat": 4,
  "nbformat_minor": 0,
  "metadata": {
    "colab": {
      "name": "NN-Modeling",
      "provenance": [],
      "machine_shape": "hm"
    },
    "kernelspec": {
      "display_name": "Python 3",
      "name": "python3"
    },
    "language_info": {
      "name": "python"
    },
    "accelerator": "GPU"
  },
  "cells": [
    {
      "cell_type": "code",
      "metadata": {
        "id": "KSmU6ce8gWE4"
      },
      "source": [
        "import pandas as pd\n",
        "import numpy as np\n",
        "import os\n",
        "\n",
        "import shutil\n",
        "import tensorflow as tf\n",
        "from tensorflow.keras.preprocessing.image import load_img\n",
        "from tensorflow.keras.applications.mobilenet import preprocess_input\n",
        "from tensorflow.keras.optimizers import RMSprop, SGD, Adam, Nadam\n",
        "from keras.callbacks import EarlyStopping, ModelCheckpoint\n",
        "\n",
        "import keras\n",
        "from keras.utils import np_utils\n",
        "from keras.applications import mobilenet_v2\n",
        "from keras.applications.vgg16 import VGG16\n",
        "from keras.preprocessing import image\n",
        "from keras.preprocessing.image import ImageDataGenerator\n",
        "from keras.models import Sequential, Model, load_model\n",
        "from keras.layers import Flatten, Dense, Dropout, Conv2D, GlobalAveragePooling2D, MaxPooling2D, InputLayer, experimental\n",
        "from keras.layers.experimental import preprocessing\n",
        "from sklearn.metrics import confusion_matrix\n",
        "\n",
        "\n",
        "import matplotlib.pyplot as plt\n",
        "import seaborn as sns"
      ],
      "execution_count": 1,
      "outputs": []
    },
    {
      "cell_type": "code",
      "metadata": {
        "id": "2SQH33CdWobu"
      },
      "source": [
        "from google.colab import drive"
      ],
      "execution_count": 2,
      "outputs": []
    },
    {
      "cell_type": "code",
      "metadata": {
        "colab": {
          "base_uri": "https://localhost:8080/"
        },
        "id": "pwhk8F3gWsPV",
        "outputId": "a4e5c7c6-c089-48bd-fbc5-37f3c4a83291"
      },
      "source": [
        "drive.mount('/content/drive')"
      ],
      "execution_count": 4,
      "outputs": [
        {
          "output_type": "stream",
          "text": [
            "Drive already mounted at /content/drive; to attempt to forcibly remount, call drive.mount(\"/content/drive\", force_remount=True).\n"
          ],
          "name": "stdout"
        }
      ]
    },
    {
      "cell_type": "code",
      "metadata": {
        "id": "PiNazzwDWuxe"
      },
      "source": [
        "path = \"/content/drive/MyDrive/image_classification\""
      ],
      "execution_count": 5,
      "outputs": []
    },
    {
      "cell_type": "code",
      "metadata": {
        "id": "EppajFQt-UlW"
      },
      "source": [
        "#Directory of training, test and validation folders\n",
        "train_dir = os.path.join(path, \"data\", \"train\")\n",
        "test_dir = os.path.join(path, \"data\", \"test\")    \n",
        "val_dir = os.path.join(path, \"data\", \"val\")   "
      ],
      "execution_count": 6,
      "outputs": []
    },
    {
      "cell_type": "code",
      "metadata": {
        "id": "9y5adFKt-Xdm"
      },
      "source": [
        "#Directories of data\n",
        "train_cardboard = os.path.join(train_dir, \"cardboard\")\n",
        "train_glass = os.path.join(train_dir, \"glass\")\n",
        "train_metal = os.path.join(train_dir, \"metal\")\n",
        "train_paper = os.path.join(train_dir, \"paper\")\n",
        "train_plastic = os.path.join(train_dir, \"plastic\")\n",
        "train_trash = os.path.join(train_dir, \"trash\")\n",
        "\n",
        "test_cardboard = os.path.join(test_dir, \"cardboard\")\n",
        "test_glass = os.path.join(test_dir, \"glass\")\n",
        "test_metal = os.path.join(test_dir, \"metal\")\n",
        "test_paper = os.path.join(test_dir, \"paper\")\n",
        "test_plastic = os.path.join(test_dir, \"plastic\")\n",
        "test_trash = os.path.join(test_dir, \"trash\")\n",
        "\n",
        "val_cardboard = os.path.join(val_dir, \"cardboard\")\n",
        "val_glass = os.path.join(val_dir, \"glass\")\n",
        "val_metal = os.path.join(val_dir, \"metal\")\n",
        "val_paper = os.path.join(val_dir, \"paper\")\n",
        "val_plastic = os.path.join(val_dir, \"plastic\")\n",
        "val_trash = os.path.join(val_dir, \"trash\")"
      ],
      "execution_count": 7,
      "outputs": []
    },
    {
      "cell_type": "code",
      "metadata": {
        "colab": {
          "base_uri": "https://localhost:8080/"
        },
        "id": "mKgzHuL2XQBG",
        "outputId": "3b39bf37-0e18-4463-bbac-4ac67075f94a"
      },
      "source": [
        "#Covert images into tf datasets\n",
        "\n",
        "directory = path + '/data/train'\n",
        "\n",
        "dt_train = tf.keras.preprocessing.image_dataset_from_directory(\n",
        "    directory,\n",
        "    labels=\"inferred\",\n",
        "    label_mode=\"categorical\",\n",
        "    class_names = ['cardboard', 'glass', 'metal', 'paper', 'plastic', 'trash'],\n",
        "    image_size=(224, 224),\n",
        "    seed = 123,\n",
        "    batch_size=30,\n",
        "    shuffle=False\n",
        ")"
      ],
      "execution_count": 8,
      "outputs": [
        {
          "output_type": "stream",
          "text": [
            "Found 1415 files belonging to 6 classes.\n"
          ],
          "name": "stdout"
        }
      ]
    },
    {
      "cell_type": "code",
      "metadata": {
        "colab": {
          "base_uri": "https://localhost:8080/"
        },
        "id": "G761orR5VF9L",
        "outputId": "f733a614-0a69-46d2-b525-261d3d56fd65"
      },
      "source": [
        "directory = path + '/data/test'\n",
        "\n",
        "dt_test = tf.keras.preprocessing.image_dataset_from_directory(\n",
        "    directory,\n",
        "    labels=\"inferred\",\n",
        "    label_mode=\"categorical\",\n",
        "    class_names = ['cardboard', 'glass', 'metal', 'paper', 'plastic', 'trash'],\n",
        "    image_size=(224, 224),\n",
        "    seed = 123,\n",
        "    batch_size=30,\n",
        "    shuffle = False\n",
        ")"
      ],
      "execution_count": 9,
      "outputs": [
        {
          "output_type": "stream",
          "text": [
            "Found 609 files belonging to 6 classes.\n"
          ],
          "name": "stdout"
        }
      ]
    },
    {
      "cell_type": "code",
      "metadata": {
        "colab": {
          "base_uri": "https://localhost:8080/"
        },
        "id": "SlnhnvK8VU7m",
        "outputId": "d5a2a653-217c-42a2-cb74-26fa15d76b38"
      },
      "source": [
        "directory = path + '/data/val'\n",
        "\n",
        "dt_val = tf.keras.preprocessing.image_dataset_from_directory(\n",
        "    directory,\n",
        "    labels=\"inferred\",\n",
        "    label_mode=\"categorical\",\n",
        "    class_names = ['cardboard', 'glass', 'metal', 'paper', 'plastic', 'trash'],\n",
        "    image_size=(224, 224),\n",
        "    seed = 123,\n",
        "    batch_size=30,\n",
        "    shuffle = False\n",
        "\n",
        ")"
      ],
      "execution_count": 10,
      "outputs": [
        {
          "output_type": "stream",
          "text": [
            "Found 503 files belonging to 6 classes.\n"
          ],
          "name": "stdout"
        }
      ]
    },
    {
      "cell_type": "code",
      "metadata": {
        "id": "LzgkgvhzXe5Y"
      },
      "source": [
        "#Train a model from scrach as base model\n",
        "num_class = 6\n",
        "\n",
        "NN_scratch = Sequential(\n",
        "                  [experimental.preprocessing.Rescaling(1./255, input_shape=(224, 224,3)),\n",
        "                    Conv2D(filters=16, kernel_size=3, activation='relu', padding='same'),\n",
        "                    MaxPooling2D(),\n",
        "                    Conv2D(filters=32, kernel_size=3, activation='relu', padding='same'),\n",
        "                    MaxPooling2D(),\n",
        "                    Conv2D(filters=64, kernel_size=3, activation='relu', padding='same'),\n",
        "                    MaxPooling2D(),\n",
        "                    Flatten(),\n",
        "                   \n",
        "                    Dense(100, activation='relu'),\n",
        "                    Dense(num_class, activation='softmax')\n",
        "    \n",
        "                   ])\n",
        "\n",
        "NN_scratch.compile(\n",
        "    loss='categorical_crossentropy',\n",
        "    optimizer='adam',\n",
        "    metrics=['accuracy'],\n",
        ")"
      ],
      "execution_count": 11,
      "outputs": []
    },
    {
      "cell_type": "code",
      "metadata": {
        "colab": {
          "base_uri": "https://localhost:8080/"
        },
        "id": "iRnINtfcaJsM",
        "outputId": "0bd1f7ea-66ab-43db-c3f8-9d9f108b2290"
      },
      "source": [
        "NN_scratch.fit(dt_train, validation_data=dt_test, epochs=30)\n"
      ],
      "execution_count": 17,
      "outputs": [
        {
          "output_type": "stream",
          "text": [
            "Epoch 1/30\n",
            "48/48 [==============================] - 690s 14s/step - loss: 8.7148 - accuracy: 0.6213 - val_loss: 2.1445 - val_accuracy: 0.1905\n",
            "Epoch 2/30\n",
            "48/48 [==============================] - 7s 145ms/step - loss: 2.0814 - accuracy: 0.0224 - val_loss: 1.7861 - val_accuracy: 0.2167\n",
            "Epoch 3/30\n",
            "48/48 [==============================] - 7s 144ms/step - loss: 1.8241 - accuracy: 0.3389 - val_loss: 1.8043 - val_accuracy: 0.1708\n",
            "Epoch 4/30\n",
            "48/48 [==============================] - 7s 142ms/step - loss: 1.9121 - accuracy: 0.4950 - val_loss: 1.7798 - val_accuracy: 0.2348\n",
            "Epoch 5/30\n",
            "48/48 [==============================] - 7s 140ms/step - loss: 1.7810 - accuracy: 0.2452 - val_loss: 1.7809 - val_accuracy: 0.2135\n",
            "Epoch 6/30\n",
            "48/48 [==============================] - 7s 139ms/step - loss: 1.8011 - accuracy: 0.0458 - val_loss: 1.7763 - val_accuracy: 0.2348\n",
            "Epoch 7/30\n",
            "48/48 [==============================] - 7s 140ms/step - loss: 1.7384 - accuracy: 0.1148 - val_loss: 1.7780 - val_accuracy: 0.2053\n",
            "Epoch 8/30\n",
            "48/48 [==============================] - 7s 141ms/step - loss: 1.9888 - accuracy: 0.0640 - val_loss: 1.7811 - val_accuracy: 0.1905\n",
            "Epoch 9/30\n",
            "48/48 [==============================] - 7s 139ms/step - loss: 1.9711 - accuracy: 0.2966 - val_loss: 1.7776 - val_accuracy: 0.1921\n",
            "Epoch 10/30\n",
            "48/48 [==============================] - 7s 142ms/step - loss: 1.7971 - accuracy: 0.0484 - val_loss: 3.2421 - val_accuracy: 0.1905\n",
            "Epoch 11/30\n",
            "48/48 [==============================] - 7s 142ms/step - loss: 1.9638 - accuracy: 0.1606 - val_loss: 1.7747 - val_accuracy: 0.1905\n",
            "Epoch 12/30\n",
            "48/48 [==============================] - 7s 148ms/step - loss: 1.7947 - accuracy: 0.0393 - val_loss: 1.7731 - val_accuracy: 0.1905\n",
            "Epoch 13/30\n",
            "48/48 [==============================] - 7s 145ms/step - loss: 1.7698 - accuracy: 0.1325 - val_loss: 1.7806 - val_accuracy: 0.2348\n",
            "Epoch 14/30\n",
            "48/48 [==============================] - 7s 146ms/step - loss: 1.8321 - accuracy: 0.0393 - val_loss: 1.7715 - val_accuracy: 0.1905\n",
            "Epoch 15/30\n",
            "48/48 [==============================] - 7s 142ms/step - loss: 1.7925 - accuracy: 0.0319 - val_loss: 1.7700 - val_accuracy: 0.1938\n",
            "Epoch 16/30\n",
            "48/48 [==============================] - 7s 139ms/step - loss: 1.7925 - accuracy: 0.0384 - val_loss: 1.7655 - val_accuracy: 0.2348\n",
            "Epoch 17/30\n",
            "48/48 [==============================] - 7s 142ms/step - loss: 1.7942 - accuracy: 0.0395 - val_loss: 1.7669 - val_accuracy: 0.1856\n",
            "Epoch 18/30\n",
            "48/48 [==============================] - 7s 139ms/step - loss: 1.7860 - accuracy: 0.0073 - val_loss: 1.7642 - val_accuracy: 0.1888\n",
            "Epoch 19/30\n",
            "48/48 [==============================] - 7s 138ms/step - loss: 1.7815 - accuracy: 0.0388 - val_loss: 1.7648 - val_accuracy: 0.2381\n",
            "Epoch 20/30\n",
            "48/48 [==============================] - 7s 139ms/step - loss: 2.4819 - accuracy: 0.1350 - val_loss: 2.3497 - val_accuracy: 0.1905\n",
            "Epoch 21/30\n",
            "48/48 [==============================] - 7s 144ms/step - loss: 1.9133 - accuracy: 0.0406 - val_loss: 1.8753 - val_accuracy: 0.1905\n",
            "Epoch 22/30\n",
            "48/48 [==============================] - 7s 144ms/step - loss: 1.8731 - accuracy: 0.1146 - val_loss: 1.7618 - val_accuracy: 0.2348\n",
            "Epoch 23/30\n",
            "48/48 [==============================] - 7s 143ms/step - loss: 1.7750 - accuracy: 0.1146 - val_loss: 1.7604 - val_accuracy: 0.2348\n",
            "Epoch 24/30\n",
            "48/48 [==============================] - 7s 141ms/step - loss: 1.7738 - accuracy: 0.1146 - val_loss: 1.7585 - val_accuracy: 0.2348\n",
            "Epoch 25/30\n",
            "48/48 [==============================] - 7s 141ms/step - loss: 1.7738 - accuracy: 0.1160 - val_loss: 1.7558 - val_accuracy: 0.2348\n",
            "Epoch 26/30\n",
            "48/48 [==============================] - 7s 141ms/step - loss: 1.7665 - accuracy: 0.1194 - val_loss: 1.9934 - val_accuracy: 0.1888\n",
            "Epoch 27/30\n",
            "48/48 [==============================] - 7s 140ms/step - loss: 1.8816 - accuracy: 0.1263 - val_loss: 1.7493 - val_accuracy: 0.2447\n",
            "Epoch 28/30\n",
            "48/48 [==============================] - 7s 139ms/step - loss: 1.7644 - accuracy: 0.0955 - val_loss: 1.7573 - val_accuracy: 0.2430\n",
            "Epoch 29/30\n",
            "48/48 [==============================] - 7s 139ms/step - loss: 1.7404 - accuracy: 0.1317 - val_loss: 1.7648 - val_accuracy: 0.2562\n",
            "Epoch 30/30\n",
            "48/48 [==============================] - 7s 142ms/step - loss: 1.7339 - accuracy: 0.1387 - val_loss: 1.8089 - val_accuracy: 0.2660\n"
          ],
          "name": "stdout"
        },
        {
          "output_type": "execute_result",
          "data": {
            "text/plain": [
              "<keras.callbacks.History at 0x7fdecc140c90>"
            ]
          },
          "metadata": {
            "tags": []
          },
          "execution_count": 17
        }
      ]
    },
    {
      "cell_type": "markdown",
      "metadata": {
        "id": "3ZFZAekrkAHt"
      },
      "source": [
        "**Train a model from scratch is hard, I'll use transfer learning instead to create a base mode instead.**"
      ]
    },
    {
      "cell_type": "code",
      "metadata": {
        "id": "Yyye3lVgYdke"
      },
      "source": [
        "#Base: MobileNet on non-scaled data\n",
        "\n",
        "# note we exclude the final dense layers by setting include_top=False,\n",
        "# and add new ones to train from scratch below\n",
        "base_model = mobilenet_v2.MobileNetV2(weights='imagenet', include_top=False, input_shape=(224, 224,3)) \n",
        " \n",
        "# Freeze convolutional layers\n",
        "for layer in base_model.layers:\n",
        "    layer.trainable = False    \n",
        "\n",
        "# Establish new fully connected block\n",
        "x = base_model.output\n",
        "x = Flatten()(x) # flatten from convolution tensor output \n",
        "predictions = Dense(6, activation='softmax')(x) # should match # of classes predicted\n",
        "\n",
        "# define formal model object to train and compile it as usual\n",
        "model = Model(inputs=base_model.input, outputs=predictions)\n",
        "model.compile(optimizer='adam', loss='categorical_crossentropy', metrics=['accuracy'])"
      ],
      "execution_count": 39,
      "outputs": []
    },
    {
      "cell_type": "code",
      "metadata": {
        "colab": {
          "base_uri": "https://localhost:8080/"
        },
        "id": "Fix-rYMTYgrj",
        "outputId": "9ad32ee9-91af-4c8e-8097-4debe1faf5ff"
      },
      "source": [
        "model.fit(dt_train, epochs=30, callbacks=[keras.callbacks.ModelCheckpoint('models/dt_train.{epoch:02d}-{val_loss:.2f}.hdf5',\n",
        "               save_best_only=True)], validation_data=dt_test)"
      ],
      "execution_count": 40,
      "outputs": [
        {
          "output_type": "stream",
          "text": [
            "Epoch 1/30\n",
            "48/48 [==============================] - 18s 197ms/step - loss: 56.6773 - accuracy: 0.4867 - val_loss: 150.2176 - val_accuracy: 0.1905\n"
          ],
          "name": "stdout"
        },
        {
          "output_type": "stream",
          "text": [
            "/usr/local/lib/python3.7/dist-packages/keras/utils/generic_utils.py:497: CustomMaskWarning: Custom mask layers require a config and must override get_config. When loading, the custom mask layer must be passed to the custom_objects argument.\n",
            "  category=CustomMaskWarning)\n"
          ],
          "name": "stderr"
        },
        {
          "output_type": "stream",
          "text": [
            "Epoch 2/30\n",
            "48/48 [==============================] - 6s 121ms/step - loss: 155.3859 - accuracy: 0.0762 - val_loss: 68.0749 - val_accuracy: 0.3629\n",
            "Epoch 3/30\n",
            "48/48 [==============================] - 6s 121ms/step - loss: 71.7639 - accuracy: 0.3146 - val_loss: 50.0631 - val_accuracy: 0.4154\n",
            "Epoch 4/30\n",
            "48/48 [==============================] - 6s 123ms/step - loss: 73.1808 - accuracy: 0.2463 - val_loss: 54.1769 - val_accuracy: 0.4598\n",
            "Epoch 5/30\n",
            "48/48 [==============================] - 6s 126ms/step - loss: 65.3617 - accuracy: 0.3343 - val_loss: 46.0531 - val_accuracy: 0.4795\n",
            "Epoch 6/30\n",
            "48/48 [==============================] - 6s 125ms/step - loss: 43.1100 - accuracy: 0.4775 - val_loss: 41.6081 - val_accuracy: 0.4614\n",
            "Epoch 7/30\n",
            "48/48 [==============================] - 6s 125ms/step - loss: 29.9760 - accuracy: 0.5515 - val_loss: 35.0669 - val_accuracy: 0.4680\n",
            "Epoch 8/30\n",
            "48/48 [==============================] - 6s 121ms/step - loss: 22.6653 - accuracy: 0.5982 - val_loss: 33.4802 - val_accuracy: 0.4647\n",
            "Epoch 9/30\n",
            "48/48 [==============================] - 6s 119ms/step - loss: 20.0619 - accuracy: 0.6020 - val_loss: 33.0241 - val_accuracy: 0.4483\n",
            "Epoch 10/30\n",
            "48/48 [==============================] - 6s 119ms/step - loss: 20.8100 - accuracy: 0.5443 - val_loss: 30.7144 - val_accuracy: 0.4548\n",
            "Epoch 11/30\n",
            "48/48 [==============================] - 6s 121ms/step - loss: 17.0538 - accuracy: 0.5691 - val_loss: 27.1377 - val_accuracy: 0.5008\n",
            "Epoch 12/30\n",
            "48/48 [==============================] - 6s 120ms/step - loss: 14.0125 - accuracy: 0.6096 - val_loss: 25.8691 - val_accuracy: 0.5304\n",
            "Epoch 13/30\n",
            "48/48 [==============================] - 6s 120ms/step - loss: 11.9626 - accuracy: 0.6842 - val_loss: 34.7657 - val_accuracy: 0.5008\n",
            "Epoch 14/30\n",
            "48/48 [==============================] - 6s 122ms/step - loss: 16.3130 - accuracy: 0.5675 - val_loss: 30.3192 - val_accuracy: 0.5205\n",
            "Epoch 15/30\n",
            "48/48 [==============================] - 6s 124ms/step - loss: 11.5881 - accuracy: 0.6706 - val_loss: 27.8239 - val_accuracy: 0.5583\n",
            "Epoch 16/30\n",
            "48/48 [==============================] - 6s 126ms/step - loss: 8.6594 - accuracy: 0.7138 - val_loss: 27.4124 - val_accuracy: 0.5665\n",
            "Epoch 17/30\n",
            "48/48 [==============================] - 6s 125ms/step - loss: 6.3955 - accuracy: 0.7708 - val_loss: 27.0355 - val_accuracy: 0.5714\n",
            "Epoch 18/30\n",
            "48/48 [==============================] - 6s 125ms/step - loss: 5.4789 - accuracy: 0.8175 - val_loss: 22.0310 - val_accuracy: 0.5731\n",
            "Epoch 19/30\n",
            "48/48 [==============================] - 6s 123ms/step - loss: 3.8043 - accuracy: 0.8536 - val_loss: 19.6590 - val_accuracy: 0.5993\n",
            "Epoch 20/30\n",
            "48/48 [==============================] - 6s 121ms/step - loss: 1.2430 - accuracy: 0.9248 - val_loss: 13.4492 - val_accuracy: 0.6765\n",
            "Epoch 21/30\n",
            "48/48 [==============================] - 6s 123ms/step - loss: 0.6373 - accuracy: 0.9521 - val_loss: 11.3250 - val_accuracy: 0.6847\n",
            "Epoch 22/30\n",
            "48/48 [==============================] - 6s 124ms/step - loss: 0.1547 - accuracy: 0.9780 - val_loss: 10.7002 - val_accuracy: 0.7044\n",
            "Epoch 23/30\n",
            "48/48 [==============================] - 6s 120ms/step - loss: 0.0235 - accuracy: 0.9921 - val_loss: 10.1870 - val_accuracy: 0.7094\n",
            "Epoch 24/30\n",
            "48/48 [==============================] - 6s 120ms/step - loss: 0.0206 - accuracy: 0.9982 - val_loss: 10.2153 - val_accuracy: 0.7077\n",
            "Epoch 25/30\n",
            "48/48 [==============================] - 6s 120ms/step - loss: 0.0200 - accuracy: 0.9982 - val_loss: 10.2155 - val_accuracy: 0.7077\n",
            "Epoch 26/30\n",
            "48/48 [==============================] - 6s 125ms/step - loss: 0.0209 - accuracy: 0.9982 - val_loss: 10.2155 - val_accuracy: 0.7077\n",
            "Epoch 27/30\n",
            "48/48 [==============================] - 6s 126ms/step - loss: 0.0218 - accuracy: 0.9982 - val_loss: 10.2154 - val_accuracy: 0.7077\n",
            "Epoch 28/30\n",
            "48/48 [==============================] - 6s 126ms/step - loss: 0.0226 - accuracy: 0.9982 - val_loss: 10.2154 - val_accuracy: 0.7077\n",
            "Epoch 29/30\n",
            "48/48 [==============================] - 6s 125ms/step - loss: 0.0234 - accuracy: 0.9982 - val_loss: 10.2154 - val_accuracy: 0.7077\n",
            "Epoch 30/30\n",
            "48/48 [==============================] - 6s 122ms/step - loss: 0.0242 - accuracy: 0.9982 - val_loss: 10.2154 - val_accuracy: 0.7077\n"
          ],
          "name": "stdout"
        },
        {
          "output_type": "execute_result",
          "data": {
            "text/plain": [
              "<keras.callbacks.History at 0x7fde5e71ffd0>"
            ]
          },
          "metadata": {
            "tags": []
          },
          "execution_count": 40
        }
      ]
    },
    {
      "cell_type": "markdown",
      "metadata": {
        "id": "0QUswkfonkJq"
      },
      "source": [
        "The base model above has accuracy 0.70. But it's obvious overfitting."
      ]
    },
    {
      "cell_type": "code",
      "metadata": {
        "id": "8aR0yWANsw9F"
      },
      "source": [
        "#MobileNet Iteration 1: add one dense layers with 1000 neurons and dropout = 0.5; train on non_scaled data\n",
        "base_model = mobilenet_v2.MobileNetV2(weights='imagenet', include_top=False, input_shape=(224,224,3)) \n",
        " \n",
        "# Freeze convolutional layers\n",
        "for layer in base_model.layers:\n",
        "    layer.trainable = False    \n",
        "\n",
        "# Establish new fully connected block\n",
        "x = base_model.output\n",
        "x = Flatten()(x) # flatten from convolution tensor output \n",
        "x = Dense(1000, activation='relu')(x) # number of layers and units are hyperparameters, as usual\n",
        "x = Dropout(0.5)(x)\n",
        "predictions = Dense(6, activation='softmax')(x) # should match # of classes predicted\n",
        "\n",
        "# define formal model object to train and compile it as usual\n",
        "model = Model(inputs=base_model.input, outputs=predictions)\n",
        "model.compile(optimizer='adam', loss='categorical_crossentropy', metrics=['accuracy'])"
      ],
      "execution_count": 42,
      "outputs": []
    },
    {
      "cell_type": "code",
      "metadata": {
        "id": "qJU_00IbWure"
      },
      "source": [
        "#Add earlystop and checkpoint to save best weights only\n",
        "filepath=\"models/dt_train.{epoch:02d}-{val_loss:.2f}.hdf5\"\n",
        "\n",
        "es = EarlyStopping(monitor='val_loss', mode='min', verbose=1, patience=5)\n",
        "mc = ModelCheckpoint(filepath, monitor='val_acc', mode='max', verbose=1, save_best_only=True)"
      ],
      "execution_count": 43,
      "outputs": []
    },
    {
      "cell_type": "code",
      "metadata": {
        "colab": {
          "base_uri": "https://localhost:8080/"
        },
        "id": "UQOSaWXVyZO0",
        "outputId": "2f5b008b-b3ce-4a91-8012-171317bcee37"
      },
      "source": [
        "model.fit(dt_train, epochs=100, callbacks=[es,mc], validation_data=dt_test)  #increase epoch because we have early stop parameter applied"
      ],
      "execution_count": 44,
      "outputs": [
        {
          "output_type": "stream",
          "text": [
            "Epoch 1/100\n",
            "48/48 [==============================] - 18s 199ms/step - loss: 310.6848 - accuracy: 0.4943 - val_loss: 136.7691 - val_accuracy: 0.1905\n",
            "WARNING:tensorflow:Can save best model only with val_acc available, skipping.\n",
            "Epoch 2/100\n",
            "48/48 [==============================] - 6s 130ms/step - loss: 147.8243 - accuracy: 0.0891 - val_loss: 16.4121 - val_accuracy: 0.2151\n",
            "WARNING:tensorflow:Can save best model only with val_acc available, skipping.\n",
            "Epoch 3/100\n",
            "48/48 [==============================] - 6s 129ms/step - loss: 13.9010 - accuracy: 0.1399 - val_loss: 1.7305 - val_accuracy: 0.2742\n",
            "WARNING:tensorflow:Can save best model only with val_acc available, skipping.\n",
            "Epoch 4/100\n",
            "48/48 [==============================] - 6s 125ms/step - loss: 1.7617 - accuracy: 0.1469 - val_loss: 1.6375 - val_accuracy: 0.2693\n",
            "WARNING:tensorflow:Can save best model only with val_acc available, skipping.\n",
            "Epoch 5/100\n",
            "48/48 [==============================] - 6s 132ms/step - loss: 1.7337 - accuracy: 0.1635 - val_loss: 1.6151 - val_accuracy: 0.3087\n",
            "WARNING:tensorflow:Can save best model only with val_acc available, skipping.\n",
            "Epoch 6/100\n",
            "48/48 [==============================] - 6s 130ms/step - loss: 1.6896 - accuracy: 0.0958 - val_loss: 1.5828 - val_accuracy: 0.3383\n",
            "WARNING:tensorflow:Can save best model only with val_acc available, skipping.\n",
            "Epoch 7/100\n",
            "48/48 [==============================] - 6s 130ms/step - loss: 1.6748 - accuracy: 0.0977 - val_loss: 1.5110 - val_accuracy: 0.3826\n",
            "WARNING:tensorflow:Can save best model only with val_acc available, skipping.\n",
            "Epoch 8/100\n",
            "48/48 [==============================] - 6s 132ms/step - loss: 1.6565 - accuracy: 0.0917 - val_loss: 1.5189 - val_accuracy: 0.3793\n",
            "WARNING:tensorflow:Can save best model only with val_acc available, skipping.\n",
            "Epoch 9/100\n",
            "48/48 [==============================] - 6s 126ms/step - loss: 1.6248 - accuracy: 0.1046 - val_loss: 1.5216 - val_accuracy: 0.3645\n",
            "WARNING:tensorflow:Can save best model only with val_acc available, skipping.\n",
            "Epoch 10/100\n",
            "48/48 [==============================] - 6s 126ms/step - loss: 1.5727 - accuracy: 0.1167 - val_loss: 1.4512 - val_accuracy: 0.4647\n",
            "WARNING:tensorflow:Can save best model only with val_acc available, skipping.\n",
            "Epoch 11/100\n",
            "48/48 [==============================] - 6s 129ms/step - loss: 1.5508 - accuracy: 0.1837 - val_loss: 1.3914 - val_accuracy: 0.4795\n",
            "WARNING:tensorflow:Can save best model only with val_acc available, skipping.\n",
            "Epoch 12/100\n",
            "48/48 [==============================] - 6s 128ms/step - loss: 1.4789 - accuracy: 0.2314 - val_loss: 1.4149 - val_accuracy: 0.4696\n",
            "WARNING:tensorflow:Can save best model only with val_acc available, skipping.\n",
            "Epoch 13/100\n",
            "48/48 [==============================] - 6s 128ms/step - loss: 1.5081 - accuracy: 0.2040 - val_loss: 1.4073 - val_accuracy: 0.5599\n",
            "WARNING:tensorflow:Can save best model only with val_acc available, skipping.\n",
            "Epoch 14/100\n",
            "48/48 [==============================] - 6s 126ms/step - loss: 1.4263 - accuracy: 0.2954 - val_loss: 1.3770 - val_accuracy: 0.5583\n",
            "WARNING:tensorflow:Can save best model only with val_acc available, skipping.\n",
            "Epoch 15/100\n",
            "48/48 [==============================] - 6s 127ms/step - loss: 1.6528 - accuracy: 0.3286 - val_loss: 1.3996 - val_accuracy: 0.5353\n",
            "WARNING:tensorflow:Can save best model only with val_acc available, skipping.\n",
            "Epoch 16/100\n",
            "48/48 [==============================] - 6s 130ms/step - loss: 1.4504 - accuracy: 0.4070 - val_loss: 1.3707 - val_accuracy: 0.5090\n",
            "WARNING:tensorflow:Can save best model only with val_acc available, skipping.\n",
            "Epoch 17/100\n",
            "48/48 [==============================] - 6s 130ms/step - loss: 1.4008 - accuracy: 0.4641 - val_loss: 1.3428 - val_accuracy: 0.5484\n",
            "WARNING:tensorflow:Can save best model only with val_acc available, skipping.\n",
            "Epoch 18/100\n",
            "48/48 [==============================] - 6s 133ms/step - loss: 1.4103 - accuracy: 0.4289 - val_loss: 1.3906 - val_accuracy: 0.5517\n",
            "WARNING:tensorflow:Can save best model only with val_acc available, skipping.\n",
            "Epoch 19/100\n",
            "48/48 [==============================] - 6s 127ms/step - loss: 1.4543 - accuracy: 0.4301 - val_loss: 1.3535 - val_accuracy: 0.5369\n",
            "WARNING:tensorflow:Can save best model only with val_acc available, skipping.\n",
            "Epoch 20/100\n",
            "48/48 [==============================] - 6s 125ms/step - loss: 1.3568 - accuracy: 0.4599 - val_loss: 1.3154 - val_accuracy: 0.5517\n",
            "WARNING:tensorflow:Can save best model only with val_acc available, skipping.\n",
            "Epoch 21/100\n",
            "48/48 [==============================] - 6s 127ms/step - loss: 1.3328 - accuracy: 0.4521 - val_loss: 1.3510 - val_accuracy: 0.5534\n",
            "WARNING:tensorflow:Can save best model only with val_acc available, skipping.\n",
            "Epoch 22/100\n",
            "48/48 [==============================] - 6s 127ms/step - loss: 1.3210 - accuracy: 0.4599 - val_loss: 1.3285 - val_accuracy: 0.5632\n",
            "WARNING:tensorflow:Can save best model only with val_acc available, skipping.\n",
            "Epoch 23/100\n",
            "48/48 [==============================] - 6s 125ms/step - loss: 1.3368 - accuracy: 0.4523 - val_loss: 1.3211 - val_accuracy: 0.5550\n",
            "WARNING:tensorflow:Can save best model only with val_acc available, skipping.\n",
            "Epoch 24/100\n",
            "48/48 [==============================] - 6s 127ms/step - loss: 1.2886 - accuracy: 0.4575 - val_loss: 1.3617 - val_accuracy: 0.5649\n",
            "WARNING:tensorflow:Can save best model only with val_acc available, skipping.\n",
            "Epoch 25/100\n",
            "48/48 [==============================] - 6s 128ms/step - loss: 1.2880 - accuracy: 0.4893 - val_loss: 1.3639 - val_accuracy: 0.5731\n",
            "WARNING:tensorflow:Can save best model only with val_acc available, skipping.\n",
            "Epoch 00025: early stopping\n"
          ],
          "name": "stdout"
        },
        {
          "output_type": "execute_result",
          "data": {
            "text/plain": [
              "<keras.callbacks.History at 0x7fde5e8ab250>"
            ]
          },
          "metadata": {
            "tags": []
          },
          "execution_count": 44
        }
      ]
    },
    {
      "cell_type": "markdown",
      "metadata": {
        "id": "x3Axn-WxZMpr"
      },
      "source": [
        "The model still performs poorly. \n",
        "I'm going to try to rescale the pixel valus and run another iteration"
      ]
    },
    {
      "cell_type": "code",
      "metadata": {
        "id": "tVHnKJY1m74Q"
      },
      "source": [
        "#Rescale the pixel value to range[0,1]\n",
        "pixel_scale = ImageDataGenerator(rescale = 1./255)"
      ],
      "execution_count": 11,
      "outputs": []
    },
    {
      "cell_type": "code",
      "metadata": {
        "colab": {
          "base_uri": "https://localhost:8080/"
        },
        "id": "K7gTmgBzqRX5",
        "outputId": "9df0bf02-d679-4576-cb83-28a9801ee74e"
      },
      "source": [
        "directory = path + '/data/train'\n",
        "\n",
        "train_scaler = pixel_scale.flow_from_directory(\n",
        "            directory,\n",
        "            target_size = (224,224),\n",
        "            class_mode = 'categorical',\n",
        "            classes = ['cardboard', 'glass', 'metal', 'paper', 'plastic', 'trash'],\n",
        "            seed = 123,\n",
        "            batch_size=30,\n",
        "            shuffle=False)\n"
      ],
      "execution_count": 12,
      "outputs": [
        {
          "output_type": "stream",
          "text": [
            "Found 1415 images belonging to 6 classes.\n"
          ],
          "name": "stdout"
        }
      ]
    },
    {
      "cell_type": "code",
      "metadata": {
        "colab": {
          "base_uri": "https://localhost:8080/"
        },
        "id": "ixemZ5MmqYLY",
        "outputId": "1b8c3837-bf11-4567-9ff7-2098d6cec761"
      },
      "source": [
        "directory = path + '/data/test'\n",
        "\n",
        "test_scaler = pixel_scale.flow_from_directory(\n",
        "            directory,\n",
        "            target_size = (224,224),\n",
        "            class_mode = 'categorical',\n",
        "            classes = ['cardboard', 'glass', 'metal', 'paper', 'plastic', 'trash'],\n",
        "            seed = 123,\n",
        "            batch_size=30,\n",
        "            shuffle=False)\n"
      ],
      "execution_count": 13,
      "outputs": [
        {
          "output_type": "stream",
          "text": [
            "Found 609 images belonging to 6 classes.\n"
          ],
          "name": "stdout"
        }
      ]
    },
    {
      "cell_type": "code",
      "metadata": {
        "colab": {
          "base_uri": "https://localhost:8080/"
        },
        "id": "JCmToQqXqcGV",
        "outputId": "507d84b9-725d-4cd4-95e8-a90ce3efeec7"
      },
      "source": [
        "directory = path + '/data/val'\n",
        "\n",
        "val_scaler = pixel_scale.flow_from_directory(\n",
        "            directory,\n",
        "            target_size = (224,224),\n",
        "            class_mode = 'categorical',\n",
        "            classes = ['cardboard', 'glass', 'metal', 'paper', 'plastic', 'trash'],\n",
        "            seed = 123,\n",
        "            batch_size=30,\n",
        "            shuffle=False)"
      ],
      "execution_count": 14,
      "outputs": [
        {
          "output_type": "stream",
          "text": [
            "Found 503 images belonging to 6 classes.\n"
          ],
          "name": "stdout"
        }
      ]
    },
    {
      "cell_type": "code",
      "metadata": {
        "id": "LVx15_PqtgWt"
      },
      "source": [
        "#MobileNet Iteration 2: add one dense layers with 1000 neurons and dropout = 0.5; train on scaled pixel data\n",
        "base_model = mobilenet_v2.MobileNetV2(weights='imagenet', include_top=False, input_shape=(224,224,3)) \n",
        " \n",
        "# Freeze convolutional layers\n",
        "for layer in base_model.layers:\n",
        "    layer.trainable = False    \n",
        "\n",
        "# Establish new fully connected block\n",
        "x = base_model.output\n",
        "x = Flatten()(x) # flatten from convolution tensor output \n",
        "x = Dense(1000, activation='relu')(x) # number of layers and units are hyperparameters, as usual\n",
        "x = Dropout(0.5)(x)\n",
        "predictions = Dense(6, activation='softmax')(x) # should match # of classes predicted\n",
        "\n",
        "# define formal model object to train and compile it as usual\n",
        "model = Model(inputs=base_model.input, outputs=predictions)\n",
        "model.compile(optimizer='adam', loss='categorical_crossentropy', metrics=['accuracy'])"
      ],
      "execution_count": 49,
      "outputs": []
    },
    {
      "cell_type": "code",
      "metadata": {
        "id": "tPvFNkxRtqXe"
      },
      "source": [
        "#Add earlystop and checkpoint to save best weights only\n",
        "filepath=\"models/train_scaler.{epoch:02d}-{val_loss:.2f}.hdf5\"\n",
        "\n",
        "es = EarlyStopping(monitor='val_loss', mode='min', verbose=1, patience=5)\n",
        "mc = ModelCheckpoint(filepath, monitor='val_acc', mode='max', verbose=1, save_best_only=True)"
      ],
      "execution_count": 50,
      "outputs": []
    },
    {
      "cell_type": "code",
      "metadata": {
        "colab": {
          "base_uri": "https://localhost:8080/"
        },
        "id": "DV3dxp3HtnGs",
        "outputId": "d1f7e487-5abd-46d3-d67c-59db7f511ff7"
      },
      "source": [
        "model.fit(train_scaler, epochs=30, callbacks=[es,mc], validation_data=test_scaler)"
      ],
      "execution_count": 51,
      "outputs": [
        {
          "output_type": "stream",
          "text": [
            "Epoch 1/30\n",
            "48/48 [==============================] - 21s 281ms/step - loss: 77.7441 - accuracy: 0.2107 - val_loss: 1.1598 - val_accuracy: 0.4548\n",
            "WARNING:tensorflow:Can save best model only with val_acc available, skipping.\n",
            "Epoch 2/30\n",
            "48/48 [==============================] - 10s 209ms/step - loss: 1.2786 - accuracy: 0.4138 - val_loss: 1.0003 - val_accuracy: 0.6371\n",
            "WARNING:tensorflow:Can save best model only with val_acc available, skipping.\n",
            "Epoch 3/30\n",
            "48/48 [==============================] - 10s 206ms/step - loss: 1.0096 - accuracy: 0.6082 - val_loss: 0.8601 - val_accuracy: 0.6732\n",
            "WARNING:tensorflow:Can save best model only with val_acc available, skipping.\n",
            "Epoch 4/30\n",
            "48/48 [==============================] - 10s 209ms/step - loss: 0.8994 - accuracy: 0.6371 - val_loss: 0.8156 - val_accuracy: 0.7422\n",
            "WARNING:tensorflow:Can save best model only with val_acc available, skipping.\n",
            "Epoch 5/30\n",
            "48/48 [==============================] - 10s 210ms/step - loss: 0.7317 - accuracy: 0.7073 - val_loss: 0.7790 - val_accuracy: 0.7077\n",
            "WARNING:tensorflow:Can save best model only with val_acc available, skipping.\n",
            "Epoch 6/30\n",
            "48/48 [==============================] - 10s 208ms/step - loss: 0.6763 - accuracy: 0.7178 - val_loss: 0.6810 - val_accuracy: 0.7652\n",
            "WARNING:tensorflow:Can save best model only with val_acc available, skipping.\n",
            "Epoch 7/30\n",
            "48/48 [==============================] - 10s 204ms/step - loss: 0.6220 - accuracy: 0.7612 - val_loss: 0.7403 - val_accuracy: 0.7750\n",
            "WARNING:tensorflow:Can save best model only with val_acc available, skipping.\n",
            "Epoch 8/30\n",
            "48/48 [==============================] - 10s 200ms/step - loss: 0.5044 - accuracy: 0.7964 - val_loss: 0.6569 - val_accuracy: 0.7833\n",
            "WARNING:tensorflow:Can save best model only with val_acc available, skipping.\n",
            "Epoch 9/30\n",
            "48/48 [==============================] - 10s 202ms/step - loss: 0.5192 - accuracy: 0.8249 - val_loss: 0.7623 - val_accuracy: 0.7406\n",
            "WARNING:tensorflow:Can save best model only with val_acc available, skipping.\n",
            "Epoch 10/30\n",
            "48/48 [==============================] - 10s 203ms/step - loss: 0.5999 - accuracy: 0.7761 - val_loss: 0.6997 - val_accuracy: 0.8013\n",
            "WARNING:tensorflow:Can save best model only with val_acc available, skipping.\n",
            "Epoch 11/30\n",
            "48/48 [==============================] - 10s 212ms/step - loss: 0.4074 - accuracy: 0.8427 - val_loss: 0.6587 - val_accuracy: 0.7783\n",
            "WARNING:tensorflow:Can save best model only with val_acc available, skipping.\n",
            "Epoch 12/30\n",
            "48/48 [==============================] - 10s 215ms/step - loss: 0.3846 - accuracy: 0.8416 - val_loss: 0.6075 - val_accuracy: 0.8210\n",
            "WARNING:tensorflow:Can save best model only with val_acc available, skipping.\n",
            "Epoch 13/30\n",
            "48/48 [==============================] - 10s 207ms/step - loss: 0.4426 - accuracy: 0.8593 - val_loss: 0.6694 - val_accuracy: 0.7997\n",
            "WARNING:tensorflow:Can save best model only with val_acc available, skipping.\n",
            "Epoch 14/30\n",
            "48/48 [==============================] - 10s 207ms/step - loss: 0.3413 - accuracy: 0.8651 - val_loss: 0.6758 - val_accuracy: 0.7964\n",
            "WARNING:tensorflow:Can save best model only with val_acc available, skipping.\n",
            "Epoch 15/30\n",
            "48/48 [==============================] - 10s 204ms/step - loss: 0.3386 - accuracy: 0.8625 - val_loss: 0.6570 - val_accuracy: 0.7767\n",
            "WARNING:tensorflow:Can save best model only with val_acc available, skipping.\n",
            "Epoch 16/30\n",
            "48/48 [==============================] - 10s 210ms/step - loss: 0.3248 - accuracy: 0.8615 - val_loss: 0.6303 - val_accuracy: 0.7980\n",
            "WARNING:tensorflow:Can save best model only with val_acc available, skipping.\n",
            "Epoch 17/30\n",
            "48/48 [==============================] - 10s 214ms/step - loss: 0.2468 - accuracy: 0.8889 - val_loss: 0.6416 - val_accuracy: 0.8030\n",
            "WARNING:tensorflow:Can save best model only with val_acc available, skipping.\n",
            "Epoch 00017: early stopping\n"
          ],
          "name": "stdout"
        },
        {
          "output_type": "execute_result",
          "data": {
            "text/plain": [
              "<keras.callbacks.History at 0x7fdd6ca09f90>"
            ]
          },
          "metadata": {
            "tags": []
          },
          "execution_count": 51
        }
      ]
    },
    {
      "cell_type": "markdown",
      "metadata": {
        "id": "M8uCydFVvesW"
      },
      "source": [
        "Train the model on scaled data generate better performance. But still a little bit overfitting"
      ]
    },
    {
      "cell_type": "code",
      "metadata": {
        "id": "RLgGQKvTwtSb"
      },
      "source": [
        "Y_pred = model.predict(test_scaler)\n",
        "\n",
        "y_pred = np.argmax(Y_pred, axis=1)"
      ],
      "execution_count": 54,
      "outputs": []
    },
    {
      "cell_type": "code",
      "metadata": {
        "id": "mopwovWpw1Qa"
      },
      "source": [
        "y_pred = np.argmax(Y_pred, axis=1)"
      ],
      "execution_count": 55,
      "outputs": []
    },
    {
      "cell_type": "code",
      "metadata": {
        "id": "uY3hvK2pw8sq"
      },
      "source": [
        "cm = confusion_matrix(test_scaler.classes, y_pred)"
      ],
      "execution_count": 56,
      "outputs": []
    },
    {
      "cell_type": "code",
      "metadata": {
        "id": "ZGQJE3eSxCEz"
      },
      "source": [
        "waste_types = ['cardboard','glass','metal','paper','plastic','trash']\n",
        "\n",
        "df_cm = pd.DataFrame(cm,waste_types,waste_types)"
      ],
      "execution_count": 57,
      "outputs": []
    },
    {
      "cell_type": "code",
      "metadata": {
        "colab": {
          "base_uri": "https://localhost:8080/",
          "height": 500
        },
        "id": "12GEryyexLd8",
        "outputId": "a26175a1-7db6-47bb-e4f5-ff5cdddf0f1a"
      },
      "source": [
        "plt.figure(figsize=(10,8))\n",
        "sns.heatmap(df_cm,annot=True,fmt=\"d\",cmap=\"YlGnBu\")"
      ],
      "execution_count": 58,
      "outputs": [
        {
          "output_type": "execute_result",
          "data": {
            "text/plain": [
              "<matplotlib.axes._subplots.AxesSubplot at 0x7fdce6fa4d50>"
            ]
          },
          "metadata": {
            "tags": []
          },
          "execution_count": 58
        },
        {
          "output_type": "display_data",
          "data": {
            "image/png": "[encoded data removed]",
            "text/plain": [
              "<Figure size 720x576 with 2 Axes>"
            ]
          },
          "metadata": {
            "tags": [],
            "needs_background": "light"
          }
        }
      ]
    },
    {
      "cell_type": "code",
      "metadata": {
        "id": "c2-eVysfxQPX"
      },
      "source": [
        "correct = 0\n",
        "\n",
        "for r in range(len(cm)):\n",
        "    for c in range(len(cm)):\n",
        "        if(r==c):\n",
        "            correct += cm[r,c]"
      ],
      "execution_count": 59,
      "outputs": []
    },
    {
      "cell_type": "code",
      "metadata": {
        "colab": {
          "base_uri": "https://localhost:8080/"
        },
        "id": "6YTCcjIRxTKd",
        "outputId": "669001a7-0fef-4dbf-a416-d9fc1ce3800c"
      },
      "source": [
        "correct/sum(sum(cm))"
      ],
      "execution_count": 60,
      "outputs": [
        {
          "output_type": "execute_result",
          "data": {
            "text/plain": [
              "0.8029556650246306"
            ]
          },
          "metadata": {
            "tags": []
          },
          "execution_count": 60
        }
      ]
    },
    {
      "cell_type": "code",
      "metadata": {
        "id": "2Put5O-vzSkd"
      },
      "source": [
        "#Apply photo augment to expand training data\n",
        "train_datagen = ImageDataGenerator(\n",
        "        rescale = 1./255,\n",
        "        rotation_range = 20,\n",
        "        width_shift_range = 0.2,\n",
        "        height_shift_range = 0.2,\n",
        "        horizontal_flip = True,\n",
        "        vertical_flip = True,\n",
        "        brightness_range=(0.1, 0.9),\n",
        "        fill_mode='nearest')\n",
        "\n",
        "validation_datagen = ImageDataGenerator(\n",
        "        rescale = 1./255)\n",
        "\n",
        "\n",
        "test_datagen = ImageDataGenerator(\n",
        "        rescale = 1./255)\n"
      ],
      "execution_count": 15,
      "outputs": []
    },
    {
      "cell_type": "code",
      "metadata": {
        "colab": {
          "base_uri": "https://localhost:8080/"
        },
        "id": "ELrCTczVwXHu",
        "outputId": "69301057-65e7-4caf-805e-9837a4b79383"
      },
      "source": [
        "directory = path + '/data/train'\n",
        "\n",
        "train_generator = train_datagen.flow_from_directory(\n",
        "            directory,\n",
        "            target_size = (224,224),\n",
        "            class_mode = 'categorical',\n",
        "            classes = ['cardboard', 'glass', 'metal', 'paper', 'plastic', 'trash'],\n",
        "            seed = 123,\n",
        "            batch_size=30,\n",
        "            shuffle=False)\n"
      ],
      "execution_count": 16,
      "outputs": [
        {
          "output_type": "stream",
          "text": [
            "Found 1415 images belonging to 6 classes.\n"
          ],
          "name": "stdout"
        }
      ]
    },
    {
      "cell_type": "code",
      "metadata": {
        "colab": {
          "base_uri": "https://localhost:8080/"
        },
        "id": "k5XI5DzxyYQ7",
        "outputId": "42e92a88-7479-4732-dfbb-0058799f65fc"
      },
      "source": [
        "directory = path + '/data/test'\n",
        "\n",
        "test_generator = validation_datagen.flow_from_directory(\n",
        "            directory,\n",
        "            target_size = (224,224),\n",
        "            batch_size = 30,\n",
        "            class_mode = 'categorical',\n",
        "            classes = ['cardboard', 'glass', 'metal', 'paper', 'plastic', 'trash'],\n",
        "            seed = 123,\n",
        "            shuffle=False)"
      ],
      "execution_count": 17,
      "outputs": [
        {
          "output_type": "stream",
          "text": [
            "Found 609 images belonging to 6 classes.\n"
          ],
          "name": "stdout"
        }
      ]
    },
    {
      "cell_type": "code",
      "metadata": {
        "colab": {
          "base_uri": "https://localhost:8080/"
        },
        "id": "qgmFCjf0zMao",
        "outputId": "731cc6a1-7941-4640-bd0e-e63a58327c02"
      },
      "source": [
        "directory = path + '/data/val'\n",
        "\n",
        "validation_generator = validation_datagen.flow_from_directory(\n",
        "            directory,\n",
        "            target_size = (224,224),\n",
        "            batch_size = 30,\n",
        "            class_mode = 'categorical',\n",
        "            classes = ['cardboard', 'glass', 'metal', 'paper', 'plastic', 'trash'],\n",
        "            seed = 123,\n",
        "            shuffle=False)"
      ],
      "execution_count": 18,
      "outputs": [
        {
          "output_type": "stream",
          "text": [
            "Found 503 images belonging to 6 classes.\n"
          ],
          "name": "stdout"
        }
      ]
    },
    {
      "cell_type": "code",
      "metadata": {
        "colab": {
          "base_uri": "https://localhost:8080/"
        },
        "id": "VNGneS36zSty",
        "outputId": "952e9c91-b9d5-464c-bb8c-9758d5fa71fe"
      },
      "source": [
        "#MobileNet Iteration 3: add more dense layers; train on data after augment; change learning ratio\n",
        "base_model = mobilenet_v2.MobileNetV2(weights='imagenet', include_top=False, input_shape=(224,224,3)) \n",
        " \n",
        "# Freeze convolutional layers\n",
        "for layer in base_model.layers:\n",
        "    layer.trainable = False    \n",
        "\n",
        "# Establish new fully connected block\n",
        "x = base_model.output\n",
        "x = Flatten()(x) # flatten from convolution tensor output \n",
        "x = Dense(1100, activation='relu')(x) # number of layers and units are hyperparameters, as usual\n",
        "x = Dropout(0.2)(x)\n",
        "x = Dense(400, activation='relu')(x)\n",
        "x = Dropout(0.2)(x)\n",
        "predictions = Dense(6, activation='softmax')(x) # should match # of classes predicted\n",
        "\n",
        "# define formal model object to train and compile it as usual\n",
        "model = Model(inputs=base_model.input, outputs=predictions)\n",
        "model.compile(optimizer=Nadam(lr=1e-4), loss='categorical_crossentropy', metrics=['accuracy']) #lower learning ratio"
      ],
      "execution_count": 71,
      "outputs": [
        {
          "output_type": "stream",
          "text": [
            "/usr/local/lib/python3.7/dist-packages/tensorflow/python/keras/optimizer_v2/optimizer_v2.py:375: UserWarning: The `lr` argument is deprecated, use `learning_rate` instead.\n",
            "  \"The `lr` argument is deprecated, use `learning_rate` instead.\")\n"
          ],
          "name": "stderr"
        }
      ]
    },
    {
      "cell_type": "code",
      "metadata": {
        "id": "-SfZBjTmieJ0"
      },
      "source": [
        "filepath=\"models/train_generator.{epoch:02d}-{val_loss:.2f}.hdf5\"\n",
        "\n",
        "es = EarlyStopping(monitor='val_loss', mode='min', verbose=1, patience=10)\n",
        "mc = ModelCheckpoint(filepath, monitor='val_acc', mode='max', verbose=1, save_best_only=True)"
      ],
      "execution_count": 75,
      "outputs": []
    },
    {
      "cell_type": "code",
      "metadata": {
        "colab": {
          "base_uri": "https://localhost:8080/"
        },
        "id": "EdtwaSHczSxJ",
        "outputId": "14fae371-4ab0-4a6e-ca60-3bab3ccbc9da"
      },
      "source": [
        "model.fit(train_generator, epochs=100, callbacks=[es,mc], validation_data=test_generator)"
      ],
      "execution_count": 76,
      "outputs": [
        {
          "output_type": "stream",
          "text": [
            "Epoch 1/100\n",
            "48/48 [==============================] - 28s 576ms/step - loss: 0.5938 - accuracy: 0.7640 - val_loss: 0.5614 - val_accuracy: 0.8177\n",
            "WARNING:tensorflow:Can save best model only with val_acc available, skipping.\n",
            "Epoch 2/100\n",
            "48/48 [==============================] - 27s 561ms/step - loss: 0.5481 - accuracy: 0.7979 - val_loss: 0.4777 - val_accuracy: 0.8555\n",
            "WARNING:tensorflow:Can save best model only with val_acc available, skipping.\n",
            "Epoch 3/100\n",
            "48/48 [==============================] - 28s 586ms/step - loss: 0.5266 - accuracy: 0.8141 - val_loss: 0.6104 - val_accuracy: 0.7668\n",
            "WARNING:tensorflow:Can save best model only with val_acc available, skipping.\n",
            "Epoch 4/100\n",
            "48/48 [==============================] - 28s 586ms/step - loss: 0.5321 - accuracy: 0.7958 - val_loss: 0.5293 - val_accuracy: 0.8259\n",
            "WARNING:tensorflow:Can save best model only with val_acc available, skipping.\n",
            "Epoch 5/100\n",
            "48/48 [==============================] - 27s 562ms/step - loss: 0.4911 - accuracy: 0.8163 - val_loss: 0.5836 - val_accuracy: 0.8210\n",
            "WARNING:tensorflow:Can save best model only with val_acc available, skipping.\n",
            "Epoch 6/100\n",
            "48/48 [==============================] - 27s 567ms/step - loss: 0.4976 - accuracy: 0.8170 - val_loss: 0.5357 - val_accuracy: 0.8243\n",
            "WARNING:tensorflow:Can save best model only with val_acc available, skipping.\n",
            "Epoch 7/100\n",
            "48/48 [==============================] - 27s 572ms/step - loss: 0.4941 - accuracy: 0.8134 - val_loss: 0.6259 - val_accuracy: 0.7898\n",
            "WARNING:tensorflow:Can save best model only with val_acc available, skipping.\n",
            "Epoch 8/100\n",
            "48/48 [==============================] - 27s 561ms/step - loss: 0.5051 - accuracy: 0.8170 - val_loss: 0.5372 - val_accuracy: 0.8227\n",
            "WARNING:tensorflow:Can save best model only with val_acc available, skipping.\n",
            "Epoch 9/100\n",
            "48/48 [==============================] - 28s 586ms/step - loss: 0.4567 - accuracy: 0.8353 - val_loss: 0.5667 - val_accuracy: 0.7964\n",
            "WARNING:tensorflow:Can save best model only with val_acc available, skipping.\n",
            "Epoch 10/100\n",
            "48/48 [==============================] - 27s 559ms/step - loss: 0.4754 - accuracy: 0.8226 - val_loss: 0.6116 - val_accuracy: 0.7783\n",
            "WARNING:tensorflow:Can save best model only with val_acc available, skipping.\n",
            "Epoch 11/100\n",
            "48/48 [==============================] - 28s 575ms/step - loss: 0.4830 - accuracy: 0.8141 - val_loss: 0.5654 - val_accuracy: 0.8194\n",
            "WARNING:tensorflow:Can save best model only with val_acc available, skipping.\n",
            "Epoch 12/100\n",
            "48/48 [==============================] - 27s 571ms/step - loss: 0.4657 - accuracy: 0.8311 - val_loss: 0.5529 - val_accuracy: 0.8062\n",
            "WARNING:tensorflow:Can save best model only with val_acc available, skipping.\n",
            "Epoch 00012: early stopping\n"
          ],
          "name": "stdout"
        },
        {
          "output_type": "execute_result",
          "data": {
            "text/plain": [
              "<keras.callbacks.History at 0x7fdcd916cf10>"
            ]
          },
          "metadata": {
            "tags": []
          },
          "execution_count": 76
        }
      ]
    },
    {
      "cell_type": "code",
      "metadata": {
        "id": "sZSXf_mxnNc2"
      },
      "source": [
        "Y_pred = model.predict(test_generator)\n",
        "\n",
        "y_pred = np.argmax(Y_pred, axis=1)"
      ],
      "execution_count": 93,
      "outputs": []
    },
    {
      "cell_type": "code",
      "metadata": {
        "id": "gKSxiNncnV7v"
      },
      "source": [
        "y_pred = np.argmax(Y_pred, axis=1)"
      ],
      "execution_count": 95,
      "outputs": []
    },
    {
      "cell_type": "code",
      "metadata": {
        "id": "l7AXmkYznbAJ"
      },
      "source": [
        "cm = confusion_matrix(test_generator.classes, y_pred)"
      ],
      "execution_count": 99,
      "outputs": []
    },
    {
      "cell_type": "code",
      "metadata": {
        "id": "F1YCL3nvneDO"
      },
      "source": [
        "waste_types = ['cardboard','glass','metal','paper','plastic','trash']\n",
        "\n",
        "df_cm = pd.DataFrame(cm,waste_types,waste_types)"
      ],
      "execution_count": 100,
      "outputs": []
    },
    {
      "cell_type": "code",
      "metadata": {
        "colab": {
          "base_uri": "https://localhost:8080/",
          "height": 500
        },
        "id": "YXwEALDUnhmN",
        "outputId": "e837de1e-5c97-42c5-8fba-6a00e6030007"
      },
      "source": [
        "plt.figure(figsize=(10,8))\n",
        "sns.heatmap(df_cm,annot=True,fmt=\"d\",cmap=\"YlGnBu\")"
      ],
      "execution_count": 101,
      "outputs": [
        {
          "output_type": "execute_result",
          "data": {
            "text/plain": [
              "<matplotlib.axes._subplots.AxesSubplot at 0x7fdbd63ee990>"
            ]
          },
          "metadata": {
            "tags": []
          },
          "execution_count": 101
        },
        {
          "output_type": "display_data",
          "data": {
            "image/png": "[encoded data removed]",
            "text/plain": [
              "<Figure size 720x576 with 2 Axes>"
            ]
          },
          "metadata": {
            "tags": [],
            "needs_background": "light"
          }
        }
      ]
    },
    {
      "cell_type": "code",
      "metadata": {
        "id": "wzMQjZGEnkua"
      },
      "source": [
        "correct = 0\n",
        "\n",
        "for r in range(len(cm)):\n",
        "    for c in range(len(cm)):\n",
        "        if(r==c):\n",
        "            correct += cm[r,c]"
      ],
      "execution_count": 102,
      "outputs": []
    },
    {
      "cell_type": "code",
      "metadata": {
        "colab": {
          "base_uri": "https://localhost:8080/"
        },
        "id": "-XSpzlsfnpXq",
        "outputId": "fca817cf-49b6-46a9-e3a4-1c1ac14d4268"
      },
      "source": [
        "correct/sum(sum(cm))"
      ],
      "execution_count": 103,
      "outputs": [
        {
          "output_type": "execute_result",
          "data": {
            "text/plain": [
              "0.80623973727422"
            ]
          },
          "metadata": {
            "tags": []
          },
          "execution_count": 103
        }
      ]
    },
    {
      "cell_type": "code",
      "metadata": {
        "id": "HSLlYLxkxW68",
        "colab": {
          "base_uri": "https://localhost:8080/"
        },
        "outputId": "5a8de702-f685-412e-a276-4c8bd31a3078"
      },
      "source": [
        "#Save the model\n",
        "model.save('/content/drive/MyDrive/Colab Notebooks/image_classification/models/JULY7_mobilenet_final')"
      ],
      "execution_count": 104,
      "outputs": [
        {
          "output_type": "stream",
          "text": [
            "/usr/local/lib/python3.7/dist-packages/keras/utils/generic_utils.py:497: CustomMaskWarning: Custom mask layers require a config and must override get_config. When loading, the custom mask layer must be passed to the custom_objects argument.\n",
            "  category=CustomMaskWarning)\n"
          ],
          "name": "stderr"
        },
        {
          "output_type": "stream",
          "text": [
            "INFO:tensorflow:Assets written to: /content/drive/MyDrive/Colab Notebooks/image_classification/models/JULY7_mobilenet_final/assets\n"
          ],
          "name": "stdout"
        }
      ]
    },
    {
      "cell_type": "markdown",
      "metadata": {
        "id": "bx6zNrg8RkCr"
      },
      "source": [
        "**VGG16**"
      ]
    },
    {
      "cell_type": "code",
      "metadata": {
        "colab": {
          "base_uri": "https://localhost:8080/"
        },
        "id": "dWqlJycHOzZa",
        "outputId": "cc943a36-9dd0-4bea-cf09-84d2bb11fede"
      },
      "source": [
        "#vgg16 Iteration 1: apply same parameters from MobileNet\n",
        "base_model = VGG16(weights='imagenet', include_top=False, input_shape=(224,224,3)) \n",
        " \n",
        "# Freeze convolutional layers\n",
        "for layer in base_model.layers:\n",
        "    layer.trainable = False    \n",
        "\n",
        "# Establish new fully connected block\n",
        "x = base_model.output\n",
        "x = Flatten()(x) # flatten from convolution tensor output \n",
        "x = Dense(1100, activation='relu')(x) # number of layers and units are hyperparameters, as usual\n",
        "x = Dropout(0.2)(x)\n",
        "x = Dense(400, activation='relu')(x)\n",
        "x = Dropout(0.2)(x)\n",
        "\n",
        "predictions = Dense(6, activation='softmax')(x) # should match # of classes predicted\n",
        "\n",
        "# define formal model object to train and compile it as usual\n",
        "model = Model(inputs=base_model.input, outputs=predictions)\n",
        "model.compile(optimizer=Nadam(lr=1e-4), loss='categorical_crossentropy', metrics=['accuracy']) #lower learning ratio"
      ],
      "execution_count": 106,
      "outputs": [
        {
          "output_type": "stream",
          "text": [
            "/usr/local/lib/python3.7/dist-packages/tensorflow/python/keras/optimizer_v2/optimizer_v2.py:375: UserWarning: The `lr` argument is deprecated, use `learning_rate` instead.\n",
            "  \"The `lr` argument is deprecated, use `learning_rate` instead.\")\n"
          ],
          "name": "stderr"
        }
      ]
    },
    {
      "cell_type": "code",
      "metadata": {
        "id": "1bk3gV54p8l0"
      },
      "source": [
        "filepath=\"models/train_generator.{epoch:02d}-{val_loss:.2f}.hdf5\"\n",
        "\n",
        "es = EarlyStopping(monitor='val_loss', mode='min', verbose=1, patience=10)\n",
        "mc = ModelCheckpoint(filepath, monitor='val_acc', mode='max', verbose=1, save_best_only=True)"
      ],
      "execution_count": 108,
      "outputs": []
    },
    {
      "cell_type": "code",
      "metadata": {
        "colab": {
          "base_uri": "https://localhost:8080/"
        },
        "id": "KabfBvnwRiNY",
        "outputId": "b74ea880-43db-453c-8e64-23560642b330"
      },
      "source": [
        "model.fit(train_generator, epochs=100, callbacks=[es,mc], validation_data=test_generator)"
      ],
      "execution_count": 109,
      "outputs": [
        {
          "output_type": "stream",
          "text": [
            "Epoch 1/30\n",
            "48/48 [==============================] - 34s 623ms/step - loss: 2.4427 - accuracy: 0.1562 - val_loss: 1.8409 - val_accuracy: 0.2348\n",
            "WARNING:tensorflow:Can save best model only with val_acc available, skipping.\n",
            "Epoch 2/30\n",
            "48/48 [==============================] - 28s 583ms/step - loss: 1.8466 - accuracy: 0.2728 - val_loss: 1.5702 - val_accuracy: 0.3218\n",
            "WARNING:tensorflow:Can save best model only with val_acc available, skipping.\n",
            "Epoch 3/30\n",
            "48/48 [==============================] - 28s 590ms/step - loss: 1.7681 - accuracy: 0.2416 - val_loss: 1.6429 - val_accuracy: 0.3251\n",
            "WARNING:tensorflow:Can save best model only with val_acc available, skipping.\n",
            "Epoch 4/30\n",
            "48/48 [==============================] - 28s 590ms/step - loss: 1.4837 - accuracy: 0.4312 - val_loss: 1.3483 - val_accuracy: 0.4220\n",
            "WARNING:tensorflow:Can save best model only with val_acc available, skipping.\n",
            "Epoch 5/30\n",
            "48/48 [==============================] - 28s 578ms/step - loss: 1.6228 - accuracy: 0.2784 - val_loss: 1.5586 - val_accuracy: 0.3990\n",
            "WARNING:tensorflow:Can save best model only with val_acc available, skipping.\n",
            "Epoch 6/30\n",
            "48/48 [==============================] - 28s 603ms/step - loss: 1.6307 - accuracy: 0.3012 - val_loss: 1.2749 - val_accuracy: 0.4778\n",
            "WARNING:tensorflow:Can save best model only with val_acc available, skipping.\n",
            "Epoch 7/30\n",
            "48/48 [==============================] - 27s 571ms/step - loss: 1.4948 - accuracy: 0.3757 - val_loss: 1.2742 - val_accuracy: 0.4877\n",
            "WARNING:tensorflow:Can save best model only with val_acc available, skipping.\n",
            "Epoch 8/30\n",
            "48/48 [==============================] - 28s 582ms/step - loss: 1.3857 - accuracy: 0.4111 - val_loss: 1.1875 - val_accuracy: 0.5090\n",
            "WARNING:tensorflow:Can save best model only with val_acc available, skipping.\n",
            "Epoch 9/30\n",
            "48/48 [==============================] - 28s 583ms/step - loss: 1.4581 - accuracy: 0.3621 - val_loss: 1.1363 - val_accuracy: 0.5402\n",
            "WARNING:tensorflow:Can save best model only with val_acc available, skipping.\n",
            "Epoch 10/30\n",
            "48/48 [==============================] - 28s 574ms/step - loss: 1.4351 - accuracy: 0.3772 - val_loss: 1.1054 - val_accuracy: 0.5484\n",
            "WARNING:tensorflow:Can save best model only with val_acc available, skipping.\n",
            "Epoch 11/30\n",
            "48/48 [==============================] - 28s 592ms/step - loss: 1.3651 - accuracy: 0.4788 - val_loss: 1.0939 - val_accuracy: 0.5583\n",
            "WARNING:tensorflow:Can save best model only with val_acc available, skipping.\n",
            "Epoch 12/30\n",
            "48/48 [==============================] - 28s 588ms/step - loss: 1.3341 - accuracy: 0.4745 - val_loss: 1.1678 - val_accuracy: 0.4959\n",
            "WARNING:tensorflow:Can save best model only with val_acc available, skipping.\n",
            "Epoch 13/30\n",
            "48/48 [==============================] - 28s 576ms/step - loss: 1.3733 - accuracy: 0.4121 - val_loss: 1.4389 - val_accuracy: 0.4138\n",
            "WARNING:tensorflow:Can save best model only with val_acc available, skipping.\n",
            "Epoch 14/30\n",
            "48/48 [==============================] - 29s 597ms/step - loss: 1.3970 - accuracy: 0.4024 - val_loss: 1.0656 - val_accuracy: 0.5928\n",
            "WARNING:tensorflow:Can save best model only with val_acc available, skipping.\n",
            "Epoch 15/30\n",
            "48/48 [==============================] - 27s 572ms/step - loss: 1.2715 - accuracy: 0.4793 - val_loss: 1.0387 - val_accuracy: 0.5993\n",
            "WARNING:tensorflow:Can save best model only with val_acc available, skipping.\n",
            "Epoch 16/30\n",
            "48/48 [==============================] - 29s 598ms/step - loss: 1.2798 - accuracy: 0.4452 - val_loss: 1.0169 - val_accuracy: 0.6026\n",
            "WARNING:tensorflow:Can save best model only with val_acc available, skipping.\n",
            "Epoch 17/30\n",
            "48/48 [==============================] - 28s 585ms/step - loss: 1.3410 - accuracy: 0.4167 - val_loss: 1.0591 - val_accuracy: 0.5747\n",
            "WARNING:tensorflow:Can save best model only with val_acc available, skipping.\n",
            "Epoch 18/30\n",
            "48/48 [==============================] - 28s 587ms/step - loss: 1.3546 - accuracy: 0.4217 - val_loss: 0.9993 - val_accuracy: 0.6010\n",
            "WARNING:tensorflow:Can save best model only with val_acc available, skipping.\n",
            "Epoch 19/30\n",
            "48/48 [==============================] - 28s 587ms/step - loss: 1.3074 - accuracy: 0.4752 - val_loss: 0.9892 - val_accuracy: 0.6174\n",
            "WARNING:tensorflow:Can save best model only with val_acc available, skipping.\n",
            "Epoch 20/30\n",
            "48/48 [==============================] - 28s 573ms/step - loss: 1.2098 - accuracy: 0.5278 - val_loss: 1.4929 - val_accuracy: 0.4614\n",
            "WARNING:tensorflow:Can save best model only with val_acc available, skipping.\n",
            "Epoch 21/30\n",
            "48/48 [==============================] - 29s 595ms/step - loss: 1.4277 - accuracy: 0.3924 - val_loss: 0.9755 - val_accuracy: 0.6273\n",
            "WARNING:tensorflow:Can save best model only with val_acc available, skipping.\n",
            "Epoch 22/30\n",
            "48/48 [==============================] - 27s 572ms/step - loss: 1.2161 - accuracy: 0.4772 - val_loss: 1.0491 - val_accuracy: 0.5878\n",
            "WARNING:tensorflow:Can save best model only with val_acc available, skipping.\n",
            "Epoch 23/30\n",
            "48/48 [==============================] - 28s 590ms/step - loss: 1.2422 - accuracy: 0.5006 - val_loss: 1.1513 - val_accuracy: 0.5731\n",
            "WARNING:tensorflow:Can save best model only with val_acc available, skipping.\n",
            "Epoch 24/30\n",
            "48/48 [==============================] - 29s 595ms/step - loss: 1.3642 - accuracy: 0.4187 - val_loss: 1.0215 - val_accuracy: 0.6223\n",
            "WARNING:tensorflow:Can save best model only with val_acc available, skipping.\n",
            "Epoch 25/30\n",
            "48/48 [==============================] - 28s 585ms/step - loss: 1.1957 - accuracy: 0.5036 - val_loss: 0.9444 - val_accuracy: 0.6371\n",
            "WARNING:tensorflow:Can save best model only with val_acc available, skipping.\n",
            "Epoch 26/30\n",
            "48/48 [==============================] - 27s 573ms/step - loss: 1.1759 - accuracy: 0.5128 - val_loss: 1.0428 - val_accuracy: 0.5895\n",
            "WARNING:tensorflow:Can save best model only with val_acc available, skipping.\n",
            "Epoch 27/30\n",
            "48/48 [==============================] - 29s 600ms/step - loss: 1.2204 - accuracy: 0.4889 - val_loss: 0.9877 - val_accuracy: 0.6043\n",
            "WARNING:tensorflow:Can save best model only with val_acc available, skipping.\n",
            "Epoch 28/30\n",
            "48/48 [==============================] - 28s 587ms/step - loss: 1.2096 - accuracy: 0.4999 - val_loss: 0.9515 - val_accuracy: 0.6388\n",
            "WARNING:tensorflow:Can save best model only with val_acc available, skipping.\n",
            "Epoch 29/30\n",
            "48/48 [==============================] - 28s 599ms/step - loss: 1.3235 - accuracy: 0.4110 - val_loss: 0.9875 - val_accuracy: 0.6535\n",
            "WARNING:tensorflow:Can save best model only with val_acc available, skipping.\n",
            "Epoch 30/30\n",
            "48/48 [==============================] - 28s 577ms/step - loss: 1.2649 - accuracy: 0.5140 - val_loss: 0.9562 - val_accuracy: 0.6256\n",
            "WARNING:tensorflow:Can save best model only with val_acc available, skipping.\n"
          ],
          "name": "stdout"
        },
        {
          "output_type": "execute_result",
          "data": {
            "text/plain": [
              "<keras.callbacks.History at 0x7fdbd6345610>"
            ]
          },
          "metadata": {
            "tags": []
          },
          "execution_count": 109
        }
      ]
    },
    {
      "cell_type": "code",
      "metadata": {
        "id": "M6wehv7p1H0G"
      },
      "source": [
        "from tensorflow.keras.layers import BatchNormalization"
      ],
      "execution_count": 19,
      "outputs": []
    },
    {
      "cell_type": "code",
      "metadata": {
        "id": "MIPqvwBLxn9e"
      },
      "source": [
        "\n",
        "train_datagen_VGG = ImageDataGenerator(preprocessing_function=tf.keras.applications.vgg16.preprocess_input,\n",
        "        shear_range=0.2,\n",
        "        zoom_range=0.2,\n",
        "        width_shift_range=0.2,\n",
        "        height_shift_range=0.2)\n",
        "\n",
        "validation_datagen_VGG = ImageDataGenerator(preprocessing_function=tf.keras.applications.vgg16.preprocess_input)\n",
        "\n",
        "\n",
        "test_datagen_VGG = ImageDataGenerator(preprocessing_function=tf.keras.applications.vgg16.preprocess_input)"
      ],
      "execution_count": 20,
      "outputs": []
    },
    {
      "cell_type": "code",
      "metadata": {
        "colab": {
          "base_uri": "https://localhost:8080/"
        },
        "id": "a1wWLaGPyDi4",
        "outputId": "30b2120f-2f1e-4a5b-feeb-ec15c57fcc4f"
      },
      "source": [
        "directory = path + '/data/train'\n",
        "\n",
        "train_generator_VGG = train_datagen_VGG.flow_from_directory(\n",
        "            directory,\n",
        "            target_size = (224,224),\n",
        "            class_mode = 'categorical',\n",
        "            classes = ['cardboard', 'glass', 'metal', 'paper', 'plastic', 'trash'],\n",
        "            seed = 123,\n",
        "            batch_size=30,\n",
        "            shuffle=False)"
      ],
      "execution_count": 21,
      "outputs": [
        {
          "output_type": "stream",
          "text": [
            "Found 1415 images belonging to 6 classes.\n"
          ],
          "name": "stdout"
        }
      ]
    },
    {
      "cell_type": "code",
      "metadata": {
        "colab": {
          "base_uri": "https://localhost:8080/"
        },
        "id": "Azt4WPxnyOx_",
        "outputId": "89acece3-c345-411b-9c8d-a708002d75f5"
      },
      "source": [
        "directory = path + '/data/test'\n",
        "\n",
        "test_generator_VGG = test_datagen_VGG.flow_from_directory(\n",
        "            directory,\n",
        "            target_size = (224,224),\n",
        "            class_mode = 'categorical',\n",
        "            classes = ['cardboard', 'glass', 'metal', 'paper', 'plastic', 'trash'],\n",
        "            seed = 123,\n",
        "            batch_size=30,\n",
        "            shuffle=False)"
      ],
      "execution_count": 22,
      "outputs": [
        {
          "output_type": "stream",
          "text": [
            "Found 609 images belonging to 6 classes.\n"
          ],
          "name": "stdout"
        }
      ]
    },
    {
      "cell_type": "code",
      "metadata": {
        "colab": {
          "base_uri": "https://localhost:8080/"
        },
        "id": "oPVtNtTNydFN",
        "outputId": "1462771c-6373-45f4-92ea-a13cbca93f7a"
      },
      "source": [
        "directory = path + '/data/val'\n",
        "\n",
        "validation_generator_VGG = validation_datagen_VGG.flow_from_directory(\n",
        "            directory,\n",
        "            target_size = (224,224),\n",
        "            batch_size = 30,\n",
        "            class_mode = 'categorical',\n",
        "            classes = ['cardboard', 'glass', 'metal', 'paper', 'plastic', 'trash'],\n",
        "            seed = 123,\n",
        "            shuffle=False)"
      ],
      "execution_count": 23,
      "outputs": [
        {
          "output_type": "stream",
          "text": [
            "Found 503 images belonging to 6 classes.\n"
          ],
          "name": "stdout"
        }
      ]
    },
    {
      "cell_type": "code",
      "metadata": {
        "colab": {
          "base_uri": "https://localhost:8080/"
        },
        "id": "i3l6XKn_qll5",
        "outputId": "2454f96e-00a4-41ec-f86a-2d2f4c833e00"
      },
      "source": [
        "#vgg16 Iteration 2: increase model complexity\n",
        "base_model = VGG16(weights='imagenet', include_top=False, input_shape=(224,224,3)) \n",
        " \n",
        "# Unfreeze last 3 layers because of overfitting\n",
        "for layer in base_model.layers:\n",
        "    layer.trainable = False    \n",
        "\n",
        "# Establish new fully connected block\n",
        "x = base_model.output\n",
        "x = GlobalAveragePooling2D()(x)\n",
        "x = Dense(300, activation='relu')(x) # number of layers and units are hyperparameters, as usual\n",
        "x = BatchNormalization()(x) #Normalize layer outputs (mean=0, std=1)\n",
        "x = Dropout(0.3)(x)\n",
        "x = Dense(50, activation='relu')(x)\n",
        "x = BatchNormalization()(x)\n",
        "x = Dropout(0.2)(x)\n",
        "\n",
        "predictions = Dense(6, activation='softmax')(x) # should match # of classes predicted\n",
        "\n",
        "# define formal model object to train and compile it as usual\n",
        "model = Model(inputs=base_model.input, outputs=predictions)\n",
        "model.compile(optimizer=Nadam(lr=1e-4), loss='categorical_crossentropy', metrics=['accuracy']) #lower learning ratio"
      ],
      "execution_count": 160,
      "outputs": [
        {
          "output_type": "stream",
          "text": [
            "/usr/local/lib/python3.7/dist-packages/tensorflow/python/keras/optimizer_v2/optimizer_v2.py:375: UserWarning: The `lr` argument is deprecated, use `learning_rate` instead.\n",
            "  \"The `lr` argument is deprecated, use `learning_rate` instead.\")\n"
          ],
          "name": "stderr"
        }
      ]
    },
    {
      "cell_type": "code",
      "metadata": {
        "id": "mcBS3FBOsSbw"
      },
      "source": [
        "filepath=\"models/train_generator_VGG.{epoch:02d}-{val_loss:.2f}.hdf5\"\n",
        "es = EarlyStopping(monitor='val_loss', mode='min', verbose=1, patience=5)\n",
        "mc = ModelCheckpoint(filepath, monitor='val_acc', mode='max', verbose=1, save_best_only=True)"
      ],
      "execution_count": 34,
      "outputs": []
    },
    {
      "cell_type": "code",
      "metadata": {
        "colab": {
          "base_uri": "https://localhost:8080/"
        },
        "id": "JrppJ3EasVYi",
        "outputId": "883c6f76-233a-4f76-f8dc-b19bb61cdaa3"
      },
      "source": [
        "model.fit(train_generator_VGG, epochs=100, callbacks=[es,mc], validation_data=test_generator_VGG)"
      ],
      "execution_count": 162,
      "outputs": [
        {
          "output_type": "stream",
          "text": [
            "Epoch 1/100\n",
            "48/48 [==============================] - 26s 508ms/step - loss: 4.4543 - accuracy: 0.1561 - val_loss: 1.9542 - val_accuracy: 0.3350\n",
            "WARNING:tensorflow:Can save best model only with val_acc available, skipping.\n",
            "Epoch 2/100\n",
            "48/48 [==============================] - 24s 491ms/step - loss: 2.6819 - accuracy: 0.2425 - val_loss: 1.5091 - val_accuracy: 0.4433\n",
            "WARNING:tensorflow:Can save best model only with val_acc available, skipping.\n",
            "Epoch 3/100\n",
            "48/48 [==============================] - 24s 511ms/step - loss: 2.2220 - accuracy: 0.3003 - val_loss: 1.2971 - val_accuracy: 0.5337\n",
            "WARNING:tensorflow:Can save best model only with val_acc available, skipping.\n",
            "Epoch 4/100\n",
            "48/48 [==============================] - 24s 495ms/step - loss: 1.7141 - accuracy: 0.3978 - val_loss: 1.1328 - val_accuracy: 0.5780\n",
            "WARNING:tensorflow:Can save best model only with val_acc available, skipping.\n",
            "Epoch 5/100\n",
            "48/48 [==============================] - 24s 494ms/step - loss: 1.6375 - accuracy: 0.4150 - val_loss: 1.0593 - val_accuracy: 0.6108\n",
            "WARNING:tensorflow:Can save best model only with val_acc available, skipping.\n",
            "Epoch 6/100\n",
            "48/48 [==============================] - 24s 501ms/step - loss: 1.4319 - accuracy: 0.4731 - val_loss: 0.9995 - val_accuracy: 0.6453\n",
            "WARNING:tensorflow:Can save best model only with val_acc available, skipping.\n",
            "Epoch 7/100\n",
            "48/48 [==============================] - 24s 494ms/step - loss: 1.3583 - accuracy: 0.4945 - val_loss: 0.9524 - val_accuracy: 0.6749\n",
            "WARNING:tensorflow:Can save best model only with val_acc available, skipping.\n",
            "Epoch 8/100\n",
            "48/48 [==============================] - 24s 506ms/step - loss: 1.3866 - accuracy: 0.4911 - val_loss: 0.9239 - val_accuracy: 0.6798\n",
            "WARNING:tensorflow:Can save best model only with val_acc available, skipping.\n",
            "Epoch 9/100\n",
            "48/48 [==============================] - 25s 513ms/step - loss: 1.2497 - accuracy: 0.5342 - val_loss: 0.8890 - val_accuracy: 0.6880\n",
            "WARNING:tensorflow:Can save best model only with val_acc available, skipping.\n",
            "Epoch 10/100\n",
            "48/48 [==============================] - 23s 486ms/step - loss: 1.1943 - accuracy: 0.5630 - val_loss: 0.8584 - val_accuracy: 0.6946\n",
            "WARNING:tensorflow:Can save best model only with val_acc available, skipping.\n",
            "Epoch 11/100\n",
            "48/48 [==============================] - 23s 484ms/step - loss: 1.1676 - accuracy: 0.5796 - val_loss: 0.8282 - val_accuracy: 0.7110\n",
            "WARNING:tensorflow:Can save best model only with val_acc available, skipping.\n",
            "Epoch 12/100\n",
            "48/48 [==============================] - 24s 500ms/step - loss: 1.1393 - accuracy: 0.5622 - val_loss: 0.8037 - val_accuracy: 0.7209\n",
            "WARNING:tensorflow:Can save best model only with val_acc available, skipping.\n",
            "Epoch 13/100\n",
            "48/48 [==============================] - 23s 475ms/step - loss: 1.0246 - accuracy: 0.6332 - val_loss: 0.7711 - val_accuracy: 0.7307\n",
            "WARNING:tensorflow:Can save best model only with val_acc available, skipping.\n",
            "Epoch 14/100\n",
            "48/48 [==============================] - 23s 488ms/step - loss: 0.9240 - accuracy: 0.6556 - val_loss: 0.7529 - val_accuracy: 0.7438\n",
            "WARNING:tensorflow:Can save best model only with val_acc available, skipping.\n",
            "Epoch 15/100\n",
            "48/48 [==============================] - 24s 499ms/step - loss: 1.0323 - accuracy: 0.6236 - val_loss: 0.7266 - val_accuracy: 0.7488\n",
            "WARNING:tensorflow:Can save best model only with val_acc available, skipping.\n",
            "Epoch 16/100\n",
            "48/48 [==============================] - 23s 478ms/step - loss: 0.9204 - accuracy: 0.6542 - val_loss: 0.7035 - val_accuracy: 0.7488\n",
            "WARNING:tensorflow:Can save best model only with val_acc available, skipping.\n",
            "Epoch 17/100\n",
            "48/48 [==============================] - 24s 497ms/step - loss: 0.9342 - accuracy: 0.6523 - val_loss: 0.6833 - val_accuracy: 0.7521\n",
            "WARNING:tensorflow:Can save best model only with val_acc available, skipping.\n",
            "Epoch 18/100\n",
            "48/48 [==============================] - 23s 490ms/step - loss: 0.8216 - accuracy: 0.6845 - val_loss: 0.6730 - val_accuracy: 0.7553\n",
            "WARNING:tensorflow:Can save best model only with val_acc available, skipping.\n",
            "Epoch 19/100\n",
            "48/48 [==============================] - 23s 480ms/step - loss: 0.8031 - accuracy: 0.7097 - val_loss: 0.6566 - val_accuracy: 0.7652\n",
            "WARNING:tensorflow:Can save best model only with val_acc available, skipping.\n",
            "Epoch 20/100\n",
            "48/48 [==============================] - 24s 504ms/step - loss: 0.8497 - accuracy: 0.6701 - val_loss: 0.6565 - val_accuracy: 0.7570\n",
            "WARNING:tensorflow:Can save best model only with val_acc available, skipping.\n",
            "Epoch 21/100\n",
            "48/48 [==============================] - 24s 497ms/step - loss: 0.8084 - accuracy: 0.7200 - val_loss: 0.6334 - val_accuracy: 0.7619\n",
            "WARNING:tensorflow:Can save best model only with val_acc available, skipping.\n",
            "Epoch 22/100\n",
            "48/48 [==============================] - 24s 495ms/step - loss: 0.8101 - accuracy: 0.6970 - val_loss: 0.6242 - val_accuracy: 0.7668\n",
            "WARNING:tensorflow:Can save best model only with val_acc available, skipping.\n",
            "Epoch 23/100\n",
            "48/48 [==============================] - 23s 482ms/step - loss: 0.7698 - accuracy: 0.7120 - val_loss: 0.6006 - val_accuracy: 0.7750\n",
            "WARNING:tensorflow:Can save best model only with val_acc available, skipping.\n",
            "Epoch 24/100\n",
            "48/48 [==============================] - 24s 500ms/step - loss: 0.8174 - accuracy: 0.6910 - val_loss: 0.6053 - val_accuracy: 0.7718\n",
            "WARNING:tensorflow:Can save best model only with val_acc available, skipping.\n",
            "Epoch 25/100\n",
            "48/48 [==============================] - 23s 489ms/step - loss: 0.7791 - accuracy: 0.6948 - val_loss: 0.6016 - val_accuracy: 0.7816\n",
            "WARNING:tensorflow:Can save best model only with val_acc available, skipping.\n",
            "Epoch 26/100\n",
            "48/48 [==============================] - 23s 477ms/step - loss: 0.6586 - accuracy: 0.7490 - val_loss: 0.5918 - val_accuracy: 0.7833\n",
            "WARNING:tensorflow:Can save best model only with val_acc available, skipping.\n",
            "Epoch 27/100\n",
            "48/48 [==============================] - 24s 503ms/step - loss: 0.7113 - accuracy: 0.7341 - val_loss: 0.5905 - val_accuracy: 0.7849\n",
            "WARNING:tensorflow:Can save best model only with val_acc available, skipping.\n",
            "Epoch 28/100\n",
            "48/48 [==============================] - 24s 502ms/step - loss: 0.6572 - accuracy: 0.7565 - val_loss: 0.5895 - val_accuracy: 0.7882\n",
            "WARNING:tensorflow:Can save best model only with val_acc available, skipping.\n",
            "Epoch 29/100\n",
            "48/48 [==============================] - 23s 484ms/step - loss: 0.5559 - accuracy: 0.7807 - val_loss: 0.5773 - val_accuracy: 0.7980\n",
            "WARNING:tensorflow:Can save best model only with val_acc available, skipping.\n",
            "Epoch 30/100\n",
            "48/48 [==============================] - 25s 515ms/step - loss: 0.6519 - accuracy: 0.7683 - val_loss: 0.5763 - val_accuracy: 0.7865\n",
            "WARNING:tensorflow:Can save best model only with val_acc available, skipping.\n",
            "Epoch 31/100\n",
            "48/48 [==============================] - 23s 484ms/step - loss: 0.5460 - accuracy: 0.8005 - val_loss: 0.5663 - val_accuracy: 0.7997\n",
            "WARNING:tensorflow:Can save best model only with val_acc available, skipping.\n",
            "Epoch 32/100\n",
            "48/48 [==============================] - 23s 487ms/step - loss: 0.5410 - accuracy: 0.8072 - val_loss: 0.5571 - val_accuracy: 0.8046\n",
            "WARNING:tensorflow:Can save best model only with val_acc available, skipping.\n",
            "Epoch 33/100\n",
            "48/48 [==============================] - 24s 509ms/step - loss: 0.5878 - accuracy: 0.7799 - val_loss: 0.5599 - val_accuracy: 0.8079\n",
            "WARNING:tensorflow:Can save best model only with val_acc available, skipping.\n",
            "Epoch 34/100\n",
            "48/48 [==============================] - 23s 485ms/step - loss: 0.6093 - accuracy: 0.7811 - val_loss: 0.5509 - val_accuracy: 0.8112\n",
            "WARNING:tensorflow:Can save best model only with val_acc available, skipping.\n",
            "Epoch 35/100\n",
            "48/48 [==============================] - 24s 492ms/step - loss: 0.5248 - accuracy: 0.7914 - val_loss: 0.5454 - val_accuracy: 0.8095\n",
            "WARNING:tensorflow:Can save best model only with val_acc available, skipping.\n",
            "Epoch 36/100\n",
            "48/48 [==============================] - 24s 503ms/step - loss: 0.5365 - accuracy: 0.8105 - val_loss: 0.5373 - val_accuracy: 0.8161\n",
            "WARNING:tensorflow:Can save best model only with val_acc available, skipping.\n",
            "Epoch 37/100\n",
            "48/48 [==============================] - 25s 511ms/step - loss: 0.5795 - accuracy: 0.7905 - val_loss: 0.5211 - val_accuracy: 0.8194\n",
            "WARNING:tensorflow:Can save best model only with val_acc available, skipping.\n",
            "Epoch 38/100\n",
            "48/48 [==============================] - 23s 480ms/step - loss: 0.5262 - accuracy: 0.8091 - val_loss: 0.5275 - val_accuracy: 0.8112\n",
            "WARNING:tensorflow:Can save best model only with val_acc available, skipping.\n",
            "Epoch 39/100\n",
            "48/48 [==============================] - 23s 484ms/step - loss: 0.5446 - accuracy: 0.8035 - val_loss: 0.5268 - val_accuracy: 0.8112\n",
            "WARNING:tensorflow:Can save best model only with val_acc available, skipping.\n",
            "Epoch 40/100\n",
            "48/48 [==============================] - 24s 504ms/step - loss: 0.4926 - accuracy: 0.8200 - val_loss: 0.5194 - val_accuracy: 0.8112\n",
            "WARNING:tensorflow:Can save best model only with val_acc available, skipping.\n",
            "Epoch 41/100\n",
            "48/48 [==============================] - 23s 481ms/step - loss: 0.4843 - accuracy: 0.8403 - val_loss: 0.5481 - val_accuracy: 0.8079\n",
            "WARNING:tensorflow:Can save best model only with val_acc available, skipping.\n",
            "Epoch 42/100\n",
            "48/48 [==============================] - 24s 501ms/step - loss: 0.4914 - accuracy: 0.8295 - val_loss: 0.5261 - val_accuracy: 0.8128\n",
            "WARNING:tensorflow:Can save best model only with val_acc available, skipping.\n",
            "Epoch 43/100\n",
            "48/48 [==============================] - 23s 482ms/step - loss: 0.4533 - accuracy: 0.8353 - val_loss: 0.5150 - val_accuracy: 0.8177\n",
            "WARNING:tensorflow:Can save best model only with val_acc available, skipping.\n",
            "Epoch 44/100\n",
            "48/48 [==============================] - 24s 496ms/step - loss: 0.4666 - accuracy: 0.8244 - val_loss: 0.5207 - val_accuracy: 0.8177\n",
            "WARNING:tensorflow:Can save best model only with val_acc available, skipping.\n",
            "Epoch 45/100\n",
            "48/48 [==============================] - 24s 506ms/step - loss: 0.5206 - accuracy: 0.8131 - val_loss: 0.5207 - val_accuracy: 0.8259\n",
            "WARNING:tensorflow:Can save best model only with val_acc available, skipping.\n",
            "Epoch 46/100\n",
            "48/48 [==============================] - 24s 493ms/step - loss: 0.4249 - accuracy: 0.8521 - val_loss: 0.5172 - val_accuracy: 0.8128\n",
            "WARNING:tensorflow:Can save best model only with val_acc available, skipping.\n",
            "Epoch 47/100\n",
            "48/48 [==============================] - 24s 506ms/step - loss: 0.4057 - accuracy: 0.8480 - val_loss: 0.5172 - val_accuracy: 0.8144\n",
            "WARNING:tensorflow:Can save best model only with val_acc available, skipping.\n",
            "Epoch 48/100\n",
            "48/48 [==============================] - 24s 497ms/step - loss: 0.4091 - accuracy: 0.8465 - val_loss: 0.5114 - val_accuracy: 0.8144\n",
            "WARNING:tensorflow:Can save best model only with val_acc available, skipping.\n",
            "Epoch 49/100\n",
            "48/48 [==============================] - 24s 509ms/step - loss: 0.4434 - accuracy: 0.8344 - val_loss: 0.5002 - val_accuracy: 0.8276\n",
            "WARNING:tensorflow:Can save best model only with val_acc available, skipping.\n",
            "Epoch 50/100\n",
            "48/48 [==============================] - 23s 472ms/step - loss: 0.3804 - accuracy: 0.8574 - val_loss: 0.5074 - val_accuracy: 0.8210\n",
            "WARNING:tensorflow:Can save best model only with val_acc available, skipping.\n",
            "Epoch 51/100\n",
            "48/48 [==============================] - 23s 485ms/step - loss: 0.3338 - accuracy: 0.8885 - val_loss: 0.5076 - val_accuracy: 0.8342\n",
            "WARNING:tensorflow:Can save best model only with val_acc available, skipping.\n",
            "Epoch 52/100\n",
            "48/48 [==============================] - 23s 485ms/step - loss: 0.3859 - accuracy: 0.8588 - val_loss: 0.4966 - val_accuracy: 0.8210\n",
            "WARNING:tensorflow:Can save best model only with val_acc available, skipping.\n",
            "Epoch 53/100\n",
            "48/48 [==============================] - 23s 481ms/step - loss: 0.3681 - accuracy: 0.8781 - val_loss: 0.5010 - val_accuracy: 0.8276\n",
            "WARNING:tensorflow:Can save best model only with val_acc available, skipping.\n",
            "Epoch 54/100\n",
            "48/48 [==============================] - 24s 503ms/step - loss: 0.4310 - accuracy: 0.8463 - val_loss: 0.5082 - val_accuracy: 0.8342\n",
            "WARNING:tensorflow:Can save best model only with val_acc available, skipping.\n",
            "Epoch 55/100\n",
            "48/48 [==============================] - 23s 483ms/step - loss: 0.4008 - accuracy: 0.8439 - val_loss: 0.4923 - val_accuracy: 0.8243\n",
            "WARNING:tensorflow:Can save best model only with val_acc available, skipping.\n",
            "Epoch 56/100\n",
            "48/48 [==============================] - 23s 475ms/step - loss: 0.3679 - accuracy: 0.8724 - val_loss: 0.5022 - val_accuracy: 0.8243\n",
            "WARNING:tensorflow:Can save best model only with val_acc available, skipping.\n",
            "Epoch 57/100\n",
            "48/48 [==============================] - 24s 502ms/step - loss: 0.3990 - accuracy: 0.8581 - val_loss: 0.5034 - val_accuracy: 0.8309\n",
            "WARNING:tensorflow:Can save best model only with val_acc available, skipping.\n",
            "Epoch 58/100\n",
            "48/48 [==============================] - 23s 476ms/step - loss: 0.3518 - accuracy: 0.8818 - val_loss: 0.5030 - val_accuracy: 0.8276\n",
            "WARNING:tensorflow:Can save best model only with val_acc available, skipping.\n",
            "Epoch 59/100\n",
            "48/48 [==============================] - 23s 474ms/step - loss: 0.3331 - accuracy: 0.8829 - val_loss: 0.4840 - val_accuracy: 0.8227\n",
            "WARNING:tensorflow:Can save best model only with val_acc available, skipping.\n",
            "Epoch 60/100\n",
            "48/48 [==============================] - 24s 505ms/step - loss: 0.3127 - accuracy: 0.8847 - val_loss: 0.4925 - val_accuracy: 0.8342\n",
            "WARNING:tensorflow:Can save best model only with val_acc available, skipping.\n",
            "Epoch 61/100\n",
            "48/48 [==============================] - 23s 471ms/step - loss: 0.3310 - accuracy: 0.8834 - val_loss: 0.4876 - val_accuracy: 0.8374\n",
            "WARNING:tensorflow:Can save best model only with val_acc available, skipping.\n",
            "Epoch 62/100\n",
            "48/48 [==============================] - 23s 477ms/step - loss: 0.3411 - accuracy: 0.8791 - val_loss: 0.4743 - val_accuracy: 0.8342\n",
            "WARNING:tensorflow:Can save best model only with val_acc available, skipping.\n",
            "Epoch 63/100\n",
            "48/48 [==============================] - 24s 501ms/step - loss: 0.3273 - accuracy: 0.8789 - val_loss: 0.4801 - val_accuracy: 0.8325\n",
            "WARNING:tensorflow:Can save best model only with val_acc available, skipping.\n",
            "Epoch 64/100\n",
            "48/48 [==============================] - 24s 501ms/step - loss: 0.3112 - accuracy: 0.8893 - val_loss: 0.4853 - val_accuracy: 0.8309\n",
            "WARNING:tensorflow:Can save best model only with val_acc available, skipping.\n",
            "Epoch 65/100\n",
            "48/48 [==============================] - 23s 480ms/step - loss: 0.3310 - accuracy: 0.8702 - val_loss: 0.4812 - val_accuracy: 0.8440\n",
            "WARNING:tensorflow:Can save best model only with val_acc available, skipping.\n",
            "Epoch 66/100\n",
            "48/48 [==============================] - 23s 475ms/step - loss: 0.2794 - accuracy: 0.8959 - val_loss: 0.4870 - val_accuracy: 0.8358\n",
            "WARNING:tensorflow:Can save best model only with val_acc available, skipping.\n",
            "Epoch 67/100\n",
            "48/48 [==============================] - 23s 485ms/step - loss: 0.3104 - accuracy: 0.8753 - val_loss: 0.4974 - val_accuracy: 0.8374\n",
            "WARNING:tensorflow:Can save best model only with val_acc available, skipping.\n",
            "Epoch 00067: early stopping\n"
          ],
          "name": "stdout"
        },
        {
          "output_type": "execute_result",
          "data": {
            "text/plain": [
              "<keras.callbacks.History at 0x7fdbd0180510>"
            ]
          },
          "metadata": {
            "tags": []
          },
          "execution_count": 162
        }
      ]
    },
    {
      "cell_type": "code",
      "metadata": {
        "id": "KQ9nCNXc37Gc"
      },
      "source": [
        "Y_pred = model.predict(test_generator_VGG)\n",
        "\n",
        "y_pred = np.argmax(Y_pred, axis=1)"
      ],
      "execution_count": 173,
      "outputs": []
    },
    {
      "cell_type": "code",
      "metadata": {
        "id": "UsT9XWwV37Yq"
      },
      "source": [
        "y_pred = np.argmax(Y_pred, axis=1)"
      ],
      "execution_count": 175,
      "outputs": []
    },
    {
      "cell_type": "code",
      "metadata": {
        "id": "68OdlZn34K5B"
      },
      "source": [
        "cm = confusion_matrix(test_generator.classes, y_pred)"
      ],
      "execution_count": 176,
      "outputs": []
    },
    {
      "cell_type": "code",
      "metadata": {
        "id": "eJndxHh24Ns8"
      },
      "source": [
        "waste_types = ['cardboard','glass','metal','paper','plastic','trash']\n",
        "\n",
        "df_cm = pd.DataFrame(cm,waste_types,waste_types)"
      ],
      "execution_count": 177,
      "outputs": []
    },
    {
      "cell_type": "code",
      "metadata": {
        "colab": {
          "base_uri": "https://localhost:8080/",
          "height": 500
        },
        "id": "ZCoOyhge4VrO",
        "outputId": "47003b71-7645-49d3-a5e5-fc0b32681063"
      },
      "source": [
        "plt.figure(figsize=(10,8))\n",
        "sns.heatmap(df_cm,annot=True,fmt=\"d\",cmap=\"YlGnBu\")"
      ],
      "execution_count": 178,
      "outputs": [
        {
          "output_type": "execute_result",
          "data": {
            "text/plain": [
              "<matplotlib.axes._subplots.AxesSubplot at 0x7fdbd22fc390>"
            ]
          },
          "metadata": {
            "tags": []
          },
          "execution_count": 178
        },
        {
          "output_type": "display_data",
          "data": {
            "image/png": "[encoded data removed]",
            "text/plain": [
              "<Figure size 720x576 with 2 Axes>"
            ]
          },
          "metadata": {
            "tags": [],
            "needs_background": "light"
          }
        }
      ]
    },
    {
      "cell_type": "code",
      "metadata": {
        "id": "WeV0qsxW4ZHn"
      },
      "source": [
        "correct = 0\n",
        "\n",
        "for r in range(len(cm)):\n",
        "    for c in range(len(cm)):\n",
        "        if(r==c):\n",
        "            correct += cm[r,c]"
      ],
      "execution_count": 179,
      "outputs": []
    },
    {
      "cell_type": "code",
      "metadata": {
        "colab": {
          "base_uri": "https://localhost:8080/"
        },
        "id": "beQcEHVc48ws",
        "outputId": "8a690bfe-41c2-4790-b604-08a16cbd2bd7"
      },
      "source": [
        "correct/sum(sum(cm))"
      ],
      "execution_count": 180,
      "outputs": [
        {
          "output_type": "execute_result",
          "data": {
            "text/plain": [
              "0.8374384236453202"
            ]
          },
          "metadata": {
            "tags": []
          },
          "execution_count": 180
        }
      ]
    },
    {
      "cell_type": "code",
      "metadata": {
        "colab": {
          "base_uri": "https://localhost:8080/"
        },
        "id": "Dw68_A6Jtfm8",
        "outputId": "741ec1fc-9ff5-47a2-ad4c-e0039c911118"
      },
      "source": [
        "#Save the model\n",
        "model.save('/content/drive/MyDrive/Colab Notebooks/image_classification/models/JULY7_VGG16_V1')"
      ],
      "execution_count": 163,
      "outputs": [
        {
          "output_type": "stream",
          "text": [
            "INFO:tensorflow:Assets written to: /content/drive/MyDrive/Colab Notebooks/image_classification/models/JULY7_VGG16_V1/assets\n"
          ],
          "name": "stdout"
        }
      ]
    },
    {
      "cell_type": "code",
      "metadata": {
        "colab": {
          "base_uri": "https://localhost:8080/"
        },
        "id": "zJYmJ6uZ5JoS",
        "outputId": "c740b7fc-70b2-4f18-b6e0-9d3bb3d93a3f"
      },
      "source": [
        "#vgg16 Iteration 2: increase model complexity\n",
        "base_model = VGG16(weights='imagenet', include_top=False, input_shape=(224,224,3)) \n",
        " \n",
        "# Unfreeze last 3 layers because of overfitting\n",
        "for layer in base_model.layers:\n",
        "    layer.trainable = False    \n",
        "\n",
        "# Establish new fully connected block\n",
        "x = base_model.output\n",
        "x = GlobalAveragePooling2D()(x)\n",
        "x = Dense(200, activation='relu')(x) # number of layers and units are hyperparameters, as usual\n",
        "x = BatchNormalization()(x) #Normalize layer outputs (mean=0, std=1)\n",
        "x = Dropout(0.3)(x)\n",
        "x = Dense(50, activation='relu')(x)\n",
        "x = BatchNormalization()(x)\n",
        "x = Dropout(0.2)(x)\n",
        "\n",
        "predictions = Dense(6, activation='softmax')(x) # should match # of classes predicted\n",
        "\n",
        "# define formal model object to train and compile it as usual\n",
        "model = Model(inputs=base_model.input, outputs=predictions)\n",
        "model.compile(optimizer=Nadam(lr=1e-4), loss='categorical_crossentropy', metrics=['accuracy']) #lower learning ratio"
      ],
      "execution_count": 182,
      "outputs": [
        {
          "output_type": "stream",
          "text": [
            "/usr/local/lib/python3.7/dist-packages/tensorflow/python/keras/optimizer_v2/optimizer_v2.py:375: UserWarning: The `lr` argument is deprecated, use `learning_rate` instead.\n",
            "  \"The `lr` argument is deprecated, use `learning_rate` instead.\")\n"
          ],
          "name": "stderr"
        }
      ]
    },
    {
      "cell_type": "code",
      "metadata": {
        "colab": {
          "base_uri": "https://localhost:8080/"
        },
        "id": "lPqUV1Rs5JwC",
        "outputId": "63a95ca8-27c4-489e-b72d-037308ce27ba"
      },
      "source": [
        "model.fit(train_generator_VGG, epochs=100, callbacks=[es,mc], validation_data=test_generator_VGG)"
      ],
      "execution_count": 183,
      "outputs": [
        {
          "output_type": "stream",
          "text": [
            "Epoch 1/100\n",
            "48/48 [==============================] - 26s 496ms/step - loss: 3.6020 - accuracy: 0.1621 - val_loss: 2.1499 - val_accuracy: 0.2693\n",
            "WARNING:tensorflow:Can save best model only with val_acc available, skipping.\n",
            "Epoch 2/100\n",
            "48/48 [==============================] - 23s 487ms/step - loss: 2.4534 - accuracy: 0.2570 - val_loss: 1.6994 - val_accuracy: 0.3612\n",
            "WARNING:tensorflow:Can save best model only with val_acc available, skipping.\n",
            "Epoch 3/100\n",
            "48/48 [==============================] - 22s 465ms/step - loss: 2.2300 - accuracy: 0.3030 - val_loss: 1.4714 - val_accuracy: 0.4483\n",
            "WARNING:tensorflow:Can save best model only with val_acc available, skipping.\n",
            "Epoch 4/100\n",
            "48/48 [==============================] - 23s 479ms/step - loss: 1.6961 - accuracy: 0.4007 - val_loss: 1.3277 - val_accuracy: 0.4992\n",
            "WARNING:tensorflow:Can save best model only with val_acc available, skipping.\n",
            "Epoch 5/100\n",
            "48/48 [==============================] - 23s 480ms/step - loss: 1.6949 - accuracy: 0.3862 - val_loss: 1.2397 - val_accuracy: 0.5616\n",
            "WARNING:tensorflow:Can save best model only with val_acc available, skipping.\n",
            "Epoch 6/100\n",
            "48/48 [==============================] - 22s 469ms/step - loss: 1.4796 - accuracy: 0.4529 - val_loss: 1.1648 - val_accuracy: 0.5846\n",
            "WARNING:tensorflow:Can save best model only with val_acc available, skipping.\n",
            "Epoch 7/100\n",
            "48/48 [==============================] - 23s 483ms/step - loss: 1.4069 - accuracy: 0.4852 - val_loss: 1.1011 - val_accuracy: 0.6158\n",
            "WARNING:tensorflow:Can save best model only with val_acc available, skipping.\n",
            "Epoch 8/100\n",
            "48/48 [==============================] - 23s 481ms/step - loss: 1.3867 - accuracy: 0.4915 - val_loss: 1.0488 - val_accuracy: 0.6305\n",
            "WARNING:tensorflow:Can save best model only with val_acc available, skipping.\n",
            "Epoch 9/100\n",
            "48/48 [==============================] - 22s 461ms/step - loss: 1.2309 - accuracy: 0.5476 - val_loss: 1.0017 - val_accuracy: 0.6437\n",
            "WARNING:tensorflow:Can save best model only with val_acc available, skipping.\n",
            "Epoch 10/100\n",
            "48/48 [==============================] - 23s 484ms/step - loss: 1.2339 - accuracy: 0.5302 - val_loss: 0.9582 - val_accuracy: 0.6683\n",
            "WARNING:tensorflow:Can save best model only with val_acc available, skipping.\n",
            "Epoch 11/100\n",
            "48/48 [==============================] - 23s 481ms/step - loss: 1.1308 - accuracy: 0.5811 - val_loss: 0.9278 - val_accuracy: 0.6634\n",
            "WARNING:tensorflow:Can save best model only with val_acc available, skipping.\n",
            "Epoch 12/100\n",
            "48/48 [==============================] - 23s 483ms/step - loss: 1.1137 - accuracy: 0.5958 - val_loss: 0.9054 - val_accuracy: 0.6831\n",
            "WARNING:tensorflow:Can save best model only with val_acc available, skipping.\n",
            "Epoch 13/100\n",
            "48/48 [==============================] - 22s 458ms/step - loss: 1.0558 - accuracy: 0.6099 - val_loss: 0.8778 - val_accuracy: 0.7044\n",
            "WARNING:tensorflow:Can save best model only with val_acc available, skipping.\n",
            "Epoch 14/100\n",
            "48/48 [==============================] - 23s 472ms/step - loss: 1.0660 - accuracy: 0.6038 - val_loss: 0.8570 - val_accuracy: 0.7077\n",
            "WARNING:tensorflow:Can save best model only with val_acc available, skipping.\n",
            "Epoch 15/100\n",
            "48/48 [==============================] - 23s 480ms/step - loss: 1.0101 - accuracy: 0.6091 - val_loss: 0.8401 - val_accuracy: 0.7126\n",
            "WARNING:tensorflow:Can save best model only with val_acc available, skipping.\n",
            "Epoch 16/100\n",
            "48/48 [==============================] - 22s 460ms/step - loss: 0.9495 - accuracy: 0.6424 - val_loss: 0.8173 - val_accuracy: 0.7126\n",
            "WARNING:tensorflow:Can save best model only with val_acc available, skipping.\n",
            "Epoch 17/100\n",
            "48/48 [==============================] - 23s 479ms/step - loss: 0.9073 - accuracy: 0.6769 - val_loss: 0.7914 - val_accuracy: 0.7176\n",
            "WARNING:tensorflow:Can save best model only with val_acc available, skipping.\n",
            "Epoch 18/100\n",
            "48/48 [==============================] - 23s 483ms/step - loss: 0.9536 - accuracy: 0.6711 - val_loss: 0.7731 - val_accuracy: 0.7258\n",
            "WARNING:tensorflow:Can save best model only with val_acc available, skipping.\n",
            "Epoch 19/100\n",
            "48/48 [==============================] - 22s 466ms/step - loss: 0.8389 - accuracy: 0.7028 - val_loss: 0.7655 - val_accuracy: 0.7274\n",
            "WARNING:tensorflow:Can save best model only with val_acc available, skipping.\n",
            "Epoch 20/100\n",
            "48/48 [==============================] - 23s 480ms/step - loss: 0.8445 - accuracy: 0.6736 - val_loss: 0.7618 - val_accuracy: 0.7307\n",
            "WARNING:tensorflow:Can save best model only with val_acc available, skipping.\n",
            "Epoch 21/100\n",
            "48/48 [==============================] - 23s 486ms/step - loss: 0.9334 - accuracy: 0.6639 - val_loss: 0.7433 - val_accuracy: 0.7291\n",
            "WARNING:tensorflow:Can save best model only with val_acc available, skipping.\n",
            "Epoch 22/100\n",
            "48/48 [==============================] - 24s 493ms/step - loss: 0.7716 - accuracy: 0.7167 - val_loss: 0.7216 - val_accuracy: 0.7373\n",
            "WARNING:tensorflow:Can save best model only with val_acc available, skipping.\n",
            "Epoch 23/100\n",
            "48/48 [==============================] - 22s 460ms/step - loss: 0.8472 - accuracy: 0.7005 - val_loss: 0.7057 - val_accuracy: 0.7438\n",
            "WARNING:tensorflow:Can save best model only with val_acc available, skipping.\n",
            "Epoch 24/100\n",
            "48/48 [==============================] - 24s 494ms/step - loss: 0.8292 - accuracy: 0.6872 - val_loss: 0.6989 - val_accuracy: 0.7471\n",
            "WARNING:tensorflow:Can save best model only with val_acc available, skipping.\n",
            "Epoch 25/100\n",
            "48/48 [==============================] - 22s 460ms/step - loss: 0.7451 - accuracy: 0.7273 - val_loss: 0.7022 - val_accuracy: 0.7471\n",
            "WARNING:tensorflow:Can save best model only with val_acc available, skipping.\n",
            "Epoch 26/100\n",
            "48/48 [==============================] - 22s 463ms/step - loss: 0.6679 - accuracy: 0.7497 - val_loss: 0.6833 - val_accuracy: 0.7603\n",
            "WARNING:tensorflow:Can save best model only with val_acc available, skipping.\n",
            "Epoch 27/100\n",
            "48/48 [==============================] - 24s 492ms/step - loss: 0.6427 - accuracy: 0.7800 - val_loss: 0.6793 - val_accuracy: 0.7603\n",
            "WARNING:tensorflow:Can save best model only with val_acc available, skipping.\n",
            "Epoch 28/100\n",
            "48/48 [==============================] - 22s 460ms/step - loss: 0.7318 - accuracy: 0.7251 - val_loss: 0.6650 - val_accuracy: 0.7652\n",
            "WARNING:tensorflow:Can save best model only with val_acc available, skipping.\n",
            "Epoch 29/100\n",
            "48/48 [==============================] - 23s 470ms/step - loss: 0.6460 - accuracy: 0.7664 - val_loss: 0.6541 - val_accuracy: 0.7668\n",
            "WARNING:tensorflow:Can save best model only with val_acc available, skipping.\n",
            "Epoch 30/100\n",
            "48/48 [==============================] - 23s 488ms/step - loss: 0.7716 - accuracy: 0.7089 - val_loss: 0.6541 - val_accuracy: 0.7750\n",
            "WARNING:tensorflow:Can save best model only with val_acc available, skipping.\n",
            "Epoch 31/100\n",
            "48/48 [==============================] - 22s 461ms/step - loss: 0.7246 - accuracy: 0.7213 - val_loss: 0.6509 - val_accuracy: 0.7734\n",
            "WARNING:tensorflow:Can save best model only with val_acc available, skipping.\n",
            "Epoch 32/100\n",
            "48/48 [==============================] - 23s 474ms/step - loss: 0.6585 - accuracy: 0.7566 - val_loss: 0.6364 - val_accuracy: 0.7734\n",
            "WARNING:tensorflow:Can save best model only with val_acc available, skipping.\n",
            "Epoch 33/100\n",
            "48/48 [==============================] - 23s 483ms/step - loss: 0.6370 - accuracy: 0.7621 - val_loss: 0.6237 - val_accuracy: 0.7833\n",
            "WARNING:tensorflow:Can save best model only with val_acc available, skipping.\n",
            "Epoch 34/100\n",
            "48/48 [==============================] - 23s 471ms/step - loss: 0.5768 - accuracy: 0.7890 - val_loss: 0.6180 - val_accuracy: 0.7783\n",
            "WARNING:tensorflow:Can save best model only with val_acc available, skipping.\n",
            "Epoch 35/100\n",
            "48/48 [==============================] - 23s 486ms/step - loss: 0.6390 - accuracy: 0.7511 - val_loss: 0.6177 - val_accuracy: 0.7865\n",
            "WARNING:tensorflow:Can save best model only with val_acc available, skipping.\n",
            "Epoch 36/100\n",
            "48/48 [==============================] - 24s 492ms/step - loss: 0.5866 - accuracy: 0.7874 - val_loss: 0.6170 - val_accuracy: 0.7816\n",
            "WARNING:tensorflow:Can save best model only with val_acc available, skipping.\n",
            "Epoch 37/100\n",
            "48/48 [==============================] - 22s 466ms/step - loss: 0.5990 - accuracy: 0.7816 - val_loss: 0.6028 - val_accuracy: 0.7915\n",
            "WARNING:tensorflow:Can save best model only with val_acc available, skipping.\n",
            "Epoch 38/100\n",
            "48/48 [==============================] - 23s 485ms/step - loss: 0.5513 - accuracy: 0.8098 - val_loss: 0.6063 - val_accuracy: 0.7964\n",
            "WARNING:tensorflow:Can save best model only with val_acc available, skipping.\n",
            "Epoch 39/100\n",
            "48/48 [==============================] - 23s 473ms/step - loss: 0.6861 - accuracy: 0.7484 - val_loss: 0.6054 - val_accuracy: 0.7964\n",
            "WARNING:tensorflow:Can save best model only with val_acc available, skipping.\n",
            "Epoch 40/100\n",
            "48/48 [==============================] - 22s 462ms/step - loss: 0.6228 - accuracy: 0.7876 - val_loss: 0.5941 - val_accuracy: 0.8030\n",
            "WARNING:tensorflow:Can save best model only with val_acc available, skipping.\n",
            "Epoch 41/100\n",
            "48/48 [==============================] - 23s 488ms/step - loss: 0.4967 - accuracy: 0.8244 - val_loss: 0.5859 - val_accuracy: 0.8013\n",
            "WARNING:tensorflow:Can save best model only with val_acc available, skipping.\n",
            "Epoch 42/100\n",
            "48/48 [==============================] - 22s 467ms/step - loss: 0.5436 - accuracy: 0.7854 - val_loss: 0.5800 - val_accuracy: 0.8062\n",
            "WARNING:tensorflow:Can save best model only with val_acc available, skipping.\n",
            "Epoch 43/100\n",
            "48/48 [==============================] - 22s 460ms/step - loss: 0.5508 - accuracy: 0.8036 - val_loss: 0.5785 - val_accuracy: 0.8062\n",
            "WARNING:tensorflow:Can save best model only with val_acc available, skipping.\n",
            "Epoch 44/100\n",
            "48/48 [==============================] - 23s 479ms/step - loss: 0.5165 - accuracy: 0.7955 - val_loss: 0.5758 - val_accuracy: 0.8095\n",
            "WARNING:tensorflow:Can save best model only with val_acc available, skipping.\n",
            "Epoch 45/100\n",
            "48/48 [==============================] - 22s 463ms/step - loss: 0.4800 - accuracy: 0.8431 - val_loss: 0.5703 - val_accuracy: 0.8112\n",
            "WARNING:tensorflow:Can save best model only with val_acc available, skipping.\n",
            "Epoch 46/100\n",
            "48/48 [==============================] - 23s 489ms/step - loss: 0.4822 - accuracy: 0.8306 - val_loss: 0.5649 - val_accuracy: 0.8144\n",
            "WARNING:tensorflow:Can save best model only with val_acc available, skipping.\n",
            "Epoch 47/100\n",
            "48/48 [==============================] - 23s 482ms/step - loss: 0.5174 - accuracy: 0.8254 - val_loss: 0.5674 - val_accuracy: 0.8095\n",
            "WARNING:tensorflow:Can save best model only with val_acc available, skipping.\n",
            "Epoch 48/100\n",
            "48/48 [==============================] - 23s 482ms/step - loss: 0.4564 - accuracy: 0.8346 - val_loss: 0.5583 - val_accuracy: 0.8112\n",
            "WARNING:tensorflow:Can save best model only with val_acc available, skipping.\n",
            "Epoch 49/100\n",
            "48/48 [==============================] - 22s 461ms/step - loss: 0.5083 - accuracy: 0.8267 - val_loss: 0.5645 - val_accuracy: 0.8079\n",
            "WARNING:tensorflow:Can save best model only with val_acc available, skipping.\n",
            "Epoch 50/100\n",
            "48/48 [==============================] - 23s 475ms/step - loss: 0.4918 - accuracy: 0.8243 - val_loss: 0.5671 - val_accuracy: 0.8112\n",
            "WARNING:tensorflow:Can save best model only with val_acc available, skipping.\n",
            "Epoch 51/100\n",
            "48/48 [==============================] - 23s 479ms/step - loss: 0.4497 - accuracy: 0.8389 - val_loss: 0.5534 - val_accuracy: 0.8161\n",
            "WARNING:tensorflow:Can save best model only with val_acc available, skipping.\n",
            "Epoch 52/100\n",
            "48/48 [==============================] - 22s 462ms/step - loss: 0.4156 - accuracy: 0.8450 - val_loss: 0.5503 - val_accuracy: 0.8243\n",
            "WARNING:tensorflow:Can save best model only with val_acc available, skipping.\n",
            "Epoch 53/100\n",
            "48/48 [==============================] - 23s 477ms/step - loss: 0.4652 - accuracy: 0.8407 - val_loss: 0.5484 - val_accuracy: 0.8243\n",
            "WARNING:tensorflow:Can save best model only with val_acc available, skipping.\n",
            "Epoch 54/100\n",
            "48/48 [==============================] - 23s 475ms/step - loss: 0.4684 - accuracy: 0.8213 - val_loss: 0.5490 - val_accuracy: 0.8194\n",
            "WARNING:tensorflow:Can save best model only with val_acc available, skipping.\n",
            "Epoch 55/100\n",
            "48/48 [==============================] - 22s 462ms/step - loss: 0.4106 - accuracy: 0.8455 - val_loss: 0.5498 - val_accuracy: 0.8243\n",
            "WARNING:tensorflow:Can save best model only with val_acc available, skipping.\n",
            "Epoch 56/100\n",
            "48/48 [==============================] - 23s 484ms/step - loss: 0.4300 - accuracy: 0.8384 - val_loss: 0.5469 - val_accuracy: 0.8259\n",
            "WARNING:tensorflow:Can save best model only with val_acc available, skipping.\n",
            "Epoch 57/100\n",
            "48/48 [==============================] - 23s 477ms/step - loss: 0.4321 - accuracy: 0.8611 - val_loss: 0.5430 - val_accuracy: 0.8210\n",
            "WARNING:tensorflow:Can save best model only with val_acc available, skipping.\n",
            "Epoch 58/100\n",
            "48/48 [==============================] - 22s 460ms/step - loss: 0.4147 - accuracy: 0.8410 - val_loss: 0.5416 - val_accuracy: 0.8292\n",
            "WARNING:tensorflow:Can save best model only with val_acc available, skipping.\n",
            "Epoch 59/100\n",
            "48/48 [==============================] - 23s 490ms/step - loss: 0.3364 - accuracy: 0.8835 - val_loss: 0.5370 - val_accuracy: 0.8292\n",
            "WARNING:tensorflow:Can save best model only with val_acc available, skipping.\n",
            "Epoch 60/100\n",
            "48/48 [==============================] - 23s 473ms/step - loss: 0.3574 - accuracy: 0.8804 - val_loss: 0.5438 - val_accuracy: 0.8259\n",
            "WARNING:tensorflow:Can save best model only with val_acc available, skipping.\n",
            "Epoch 61/100\n",
            "48/48 [==============================] - 22s 463ms/step - loss: 0.4025 - accuracy: 0.8542 - val_loss: 0.5382 - val_accuracy: 0.8309\n",
            "WARNING:tensorflow:Can save best model only with val_acc available, skipping.\n",
            "Epoch 62/100\n",
            "48/48 [==============================] - 23s 490ms/step - loss: 0.3909 - accuracy: 0.8543 - val_loss: 0.5328 - val_accuracy: 0.8276\n",
            "WARNING:tensorflow:Can save best model only with val_acc available, skipping.\n",
            "Epoch 63/100\n",
            "48/48 [==============================] - 23s 481ms/step - loss: 0.3790 - accuracy: 0.8591 - val_loss: 0.5372 - val_accuracy: 0.8259\n",
            "WARNING:tensorflow:Can save best model only with val_acc available, skipping.\n",
            "Epoch 64/100\n",
            "48/48 [==============================] - 23s 482ms/step - loss: 0.3537 - accuracy: 0.8761 - val_loss: 0.5274 - val_accuracy: 0.8259\n",
            "WARNING:tensorflow:Can save best model only with val_acc available, skipping.\n",
            "Epoch 65/100\n",
            "48/48 [==============================] - 22s 460ms/step - loss: 0.4021 - accuracy: 0.8571 - val_loss: 0.5299 - val_accuracy: 0.8358\n",
            "WARNING:tensorflow:Can save best model only with val_acc available, skipping.\n",
            "Epoch 66/100\n",
            "48/48 [==============================] - 23s 480ms/step - loss: 0.3587 - accuracy: 0.8731 - val_loss: 0.5090 - val_accuracy: 0.8440\n",
            "WARNING:tensorflow:Can save best model only with val_acc available, skipping.\n",
            "Epoch 67/100\n",
            "48/48 [==============================] - 23s 477ms/step - loss: 0.3422 - accuracy: 0.8715 - val_loss: 0.5150 - val_accuracy: 0.8342\n",
            "WARNING:tensorflow:Can save best model only with val_acc available, skipping.\n",
            "Epoch 68/100\n",
            "48/48 [==============================] - 22s 461ms/step - loss: 0.3979 - accuracy: 0.8500 - val_loss: 0.5188 - val_accuracy: 0.8325\n",
            "WARNING:tensorflow:Can save best model only with val_acc available, skipping.\n",
            "Epoch 69/100\n",
            "48/48 [==============================] - 23s 485ms/step - loss: 0.3315 - accuracy: 0.8791 - val_loss: 0.5200 - val_accuracy: 0.8358\n",
            "WARNING:tensorflow:Can save best model only with val_acc available, skipping.\n",
            "Epoch 70/100\n",
            "48/48 [==============================] - 23s 474ms/step - loss: 0.3431 - accuracy: 0.8778 - val_loss: 0.5137 - val_accuracy: 0.8342\n",
            "WARNING:tensorflow:Can save best model only with val_acc available, skipping.\n",
            "Epoch 71/100\n",
            "48/48 [==============================] - 22s 457ms/step - loss: 0.3445 - accuracy: 0.8793 - val_loss: 0.5118 - val_accuracy: 0.8440\n",
            "WARNING:tensorflow:Can save best model only with val_acc available, skipping.\n",
            "Epoch 00071: early stopping\n"
          ],
          "name": "stdout"
        },
        {
          "output_type": "execute_result",
          "data": {
            "text/plain": [
              "<keras.callbacks.History at 0x7fdbd2657090>"
            ]
          },
          "metadata": {
            "tags": []
          },
          "execution_count": 183
        }
      ]
    },
    {
      "cell_type": "code",
      "metadata": {
        "id": "9AFjZxUUCPOx"
      },
      "source": [
        "Y_pred = model.predict(test_generator_VGG)\n",
        "\n",
        "y_pred = np.argmax(Y_pred, axis=1)"
      ],
      "execution_count": 185,
      "outputs": []
    },
    {
      "cell_type": "code",
      "metadata": {
        "id": "nNYjsYO1CPSg"
      },
      "source": [
        "y_pred = np.argmax(Y_pred, axis=1)"
      ],
      "execution_count": 186,
      "outputs": []
    },
    {
      "cell_type": "code",
      "metadata": {
        "id": "aWyQolFTCWH7"
      },
      "source": [
        "cm = confusion_matrix(test_generator_VGG.classes, y_pred)"
      ],
      "execution_count": 197,
      "outputs": []
    },
    {
      "cell_type": "code",
      "metadata": {
        "id": "Pu8hxTDtCYfl"
      },
      "source": [
        "waste_types = ['cardboard','glass','metal','paper','plastic','trash']\n",
        "\n",
        "df_cm = pd.DataFrame(cm,waste_types,waste_types)"
      ],
      "execution_count": 198,
      "outputs": []
    },
    {
      "cell_type": "code",
      "metadata": {
        "colab": {
          "base_uri": "https://localhost:8080/",
          "height": 500
        },
        "id": "eVbO4vQpCalG",
        "outputId": "aaf9e176-2b02-4412-b43b-9ea329920484"
      },
      "source": [
        "plt.figure(figsize=(10,8))\n",
        "sns.heatmap(df_cm,annot=True,fmt=\"d\",cmap=\"YlGnBu\")"
      ],
      "execution_count": 199,
      "outputs": [
        {
          "output_type": "execute_result",
          "data": {
            "text/plain": [
              "<matplotlib.axes._subplots.AxesSubplot at 0x7fdbd51d5150>"
            ]
          },
          "metadata": {
            "tags": []
          },
          "execution_count": 199
        },
        {
          "output_type": "display_data",
          "data": {
            "image/png": "[encoded data removed]",
            "text/plain": [
              "<Figure size 720x576 with 2 Axes>"
            ]
          },
          "metadata": {
            "tags": [],
            "needs_background": "light"
          }
        }
      ]
    },
    {
      "cell_type": "code",
      "metadata": {
        "id": "C76tTzrDCc-v"
      },
      "source": [
        "correct = 0\n",
        "\n",
        "for r in range(len(cm)):\n",
        "    for c in range(len(cm)):\n",
        "        if(r==c):\n",
        "            correct += cm[r,c]"
      ],
      "execution_count": 200,
      "outputs": []
    },
    {
      "cell_type": "code",
      "metadata": {
        "colab": {
          "base_uri": "https://localhost:8080/"
        },
        "id": "BdgwiCxRCiKP",
        "outputId": "b9a4eace-dece-4bc7-a0b1-fd863a8c5c0d"
      },
      "source": [
        "correct/sum(sum(cm))"
      ],
      "execution_count": 201,
      "outputs": [
        {
          "output_type": "execute_result",
          "data": {
            "text/plain": [
              "0.8440065681444991"
            ]
          },
          "metadata": {
            "tags": []
          },
          "execution_count": 201
        }
      ]
    },
    {
      "cell_type": "code",
      "metadata": {
        "colab": {
          "base_uri": "https://localhost:8080/"
        },
        "id": "Gi9d9VtU7qjR",
        "outputId": "3a0d7ef7-a073-4348-8592-a9626059e907"
      },
      "source": [
        "#Save the model\n",
        "model.save('/content/drive/MyDrive/Colab Notebooks/image_classification/models/JULY7_VGG16_V2')"
      ],
      "execution_count": 184,
      "outputs": [
        {
          "output_type": "stream",
          "text": [
            "INFO:tensorflow:Assets written to: /content/drive/MyDrive/Colab Notebooks/image_classification/models/JULY7_VGG16_V2/assets\n"
          ],
          "name": "stdout"
        }
      ]
    },
    {
      "cell_type": "code",
      "metadata": {
        "id": "t7Yj9X1gDIuu"
      },
      "source": [
        ""
      ],
      "execution_count": null,
      "outputs": []
    },
    {
      "cell_type": "markdown",
      "metadata": {
        "id": "eU9a93MhHdK-"
      },
      "source": [
        "**InceptionV3**"
      ]
    },
    {
      "cell_type": "code",
      "metadata": {
        "id": "fFeSs_r7OlGt"
      },
      "source": [
        "from keras.applications.inception_v3 import InceptionV3"
      ],
      "execution_count": 211,
      "outputs": []
    },
    {
      "cell_type": "code",
      "metadata": {
        "id": "Yi3DW1SDKcJr"
      },
      "source": [
        "#Apply photo augment to expand training data\n",
        "train_datagen_INC = ImageDataGenerator(\n",
        "        rescale = 1./255,\n",
        "        rotation_range = 30,\n",
        "        width_shift_range = 0.1,\n",
        "        height_shift_range = 0.1,\n",
        "        horizontal_flip = True,\n",
        "        vertical_flip = True,\n",
        "        shear_range=0.1,\n",
        "        zoom_range=0.1,\n",
        "        )\n",
        "\n",
        "validation_datagen_INC = ImageDataGenerator(rescale = 1./255)\n",
        "\n",
        "\n",
        "test_datagen_INC = ImageDataGenerator(rescale = 1./255)\n"
      ],
      "execution_count": 25,
      "outputs": []
    },
    {
      "cell_type": "code",
      "metadata": {
        "colab": {
          "base_uri": "https://localhost:8080/"
        },
        "id": "NavLO19SK_dK",
        "outputId": "a4c09b99-ba2e-468c-affa-1db365115154"
      },
      "source": [
        "directory = path + '/data/train'\n",
        "\n",
        "train_generator_INC = train_datagen_INC.flow_from_directory(\n",
        "            directory,\n",
        "            target_size = (300,300),\n",
        "            class_mode = 'categorical',\n",
        "            classes = ['cardboard', 'glass', 'metal', 'paper', 'plastic', 'trash'],\n",
        "            seed = 123,\n",
        "            batch_size=30,\n",
        "            shuffle=False)"
      ],
      "execution_count": 26,
      "outputs": [
        {
          "output_type": "stream",
          "text": [
            "Found 1415 images belonging to 6 classes.\n"
          ],
          "name": "stdout"
        }
      ]
    },
    {
      "cell_type": "code",
      "metadata": {
        "colab": {
          "base_uri": "https://localhost:8080/"
        },
        "id": "ajYmoMM9LECv",
        "outputId": "6dba4e0a-0f47-49a4-e378-e48761746532"
      },
      "source": [
        "directory = path + '/data/test'\n",
        "\n",
        "test_generator_INC = test_datagen_INC.flow_from_directory(\n",
        "            directory,\n",
        "            target_size = (300,300),\n",
        "            class_mode = 'categorical',\n",
        "            classes = ['cardboard', 'glass', 'metal', 'paper', 'plastic', 'trash'],\n",
        "            seed = 123,\n",
        "            batch_size=30,\n",
        "            shuffle=False)"
      ],
      "execution_count": 27,
      "outputs": [
        {
          "output_type": "stream",
          "text": [
            "Found 609 images belonging to 6 classes.\n"
          ],
          "name": "stdout"
        }
      ]
    },
    {
      "cell_type": "code",
      "metadata": {
        "colab": {
          "base_uri": "https://localhost:8080/"
        },
        "id": "93GTsml1Lbn_",
        "outputId": "bd494ab1-42be-4a4a-dc14-eab762070e08"
      },
      "source": [
        "directory = path + '/data/val'\n",
        "\n",
        "val_generator_INC = validation_datagen_INC.flow_from_directory(\n",
        "            directory,\n",
        "            target_size = (300,300),\n",
        "            class_mode = 'categorical',\n",
        "            classes = ['cardboard', 'glass', 'metal', 'paper', 'plastic', 'trash'],\n",
        "            seed = 123,\n",
        "            batch_size=30,\n",
        "            shuffle=False)"
      ],
      "execution_count": 28,
      "outputs": [
        {
          "output_type": "stream",
          "text": [
            "Found 503 images belonging to 6 classes.\n"
          ],
          "name": "stdout"
        }
      ]
    },
    {
      "cell_type": "code",
      "metadata": {
        "id": "MwuO5oIdOlYr"
      },
      "source": [
        "base_model = InceptionV3(weights='imagenet', include_top=False, input_shape=(300,300,3)) \n",
        " \n",
        "# Freeze convolutional layers\n",
        "for layer in base_model.layers:\n",
        "    layer.trainable = False    \n",
        "\n",
        "# Establish new fully connected block\n",
        "x = base_model.output\n",
        "x = GlobalAveragePooling2D()(x) \n",
        "x = Flatten()(x) \n",
        "x = Dense(1500, activation='relu')(x) # number of layers and units are hyperparameters, as usual\n",
        "x = Dropout(0.15)(x)\n",
        "x = Dense(500, activation='relu')(x)\n",
        "x = Dropout(0.15)(x)\n",
        "\n",
        "predictions = Dense(6, activation='softmax')(x) # should match # of classes predicted\n",
        "\n",
        "# define formal model object to train and compile it as usual\n",
        "model = Model(inputs=base_model.input, outputs=predictions)\n",
        "model.compile(optimizer=Nadam(learning_rate=1e-4), loss='categorical_crossentropy', metrics=['accuracy']) #lower learning ratio"
      ],
      "execution_count": 224,
      "outputs": []
    },
    {
      "cell_type": "code",
      "metadata": {
        "id": "63vPLmzbmiog"
      },
      "source": [
        "batch_size = 200\n",
        "epochs = 3000\n",
        "\n",
        "steps_per_epoch = train_generator.n // batch_size\n",
        "validation_steps = validation_generator.n // batch_size"
      ],
      "execution_count": 225,
      "outputs": []
    },
    {
      "cell_type": "code",
      "metadata": {
        "id": "2xEalQfBozvL"
      },
      "source": [
        "filepath=\"models/train_generator_INC.{epoch:02d}-{val_loss:.2f}.hdf5\"\n",
        "\n",
        "mc = ModelCheckpoint(filepath, monitor='val_acc', verbose=1, save_best_only=True, mode='max')\n",
        "es = EarlyStopping(monitor='val_loss', mode='min', verbose=1, patience=10) #try 10"
      ],
      "execution_count": 226,
      "outputs": []
    },
    {
      "cell_type": "code",
      "metadata": {
        "colab": {
          "base_uri": "https://localhost:8080/"
        },
        "id": "4bhTCciyHJrV",
        "outputId": "b42d92c6-75a4-4f91-ad08-97c456a41763"
      },
      "source": [
        "model.fit(train_generator_INC, \n",
        "          epochs=epochs, \n",
        "          steps_per_epoch=steps_per_epoch,  \n",
        "          validation_data=test_generator_INC, \n",
        "          validation_steps=validation_steps, \n",
        "          callbacks=[mc, es])"
      ],
      "execution_count": 227,
      "outputs": [
        {
          "output_type": "stream",
          "text": [
            "Epoch 1/3000\n",
            "7/7 [==============================] - 26s 2s/step - loss: 2.0128 - accuracy: 0.1208 - val_loss: 1.3766 - val_accuracy: 0.2333\n",
            "WARNING:tensorflow:Can save best model only with val_acc available, skipping.\n",
            "Epoch 2/3000\n",
            "7/7 [==============================] - 6s 812ms/step - loss: 1.6729 - accuracy: 0.2903 - val_loss: 1.2009 - val_accuracy: 0.7500\n",
            "WARNING:tensorflow:Can save best model only with val_acc available, skipping.\n",
            "Epoch 3/3000\n",
            "7/7 [==============================] - 6s 806ms/step - loss: 1.6978 - accuracy: 0.3224 - val_loss: 0.6541 - val_accuracy: 1.0000\n",
            "WARNING:tensorflow:Can save best model only with val_acc available, skipping.\n",
            "Epoch 4/3000\n",
            "7/7 [==============================] - 6s 811ms/step - loss: 1.2874 - accuracy: 0.5675 - val_loss: 0.9703 - val_accuracy: 0.6500\n",
            "WARNING:tensorflow:Can save best model only with val_acc available, skipping.\n",
            "Epoch 5/3000\n",
            "7/7 [==============================] - 6s 823ms/step - loss: 1.6242 - accuracy: 0.3052 - val_loss: 0.5992 - val_accuracy: 0.9833\n",
            "WARNING:tensorflow:Can save best model only with val_acc available, skipping.\n",
            "Epoch 6/3000\n",
            "7/7 [==============================] - 6s 809ms/step - loss: 1.3693 - accuracy: 0.4101 - val_loss: 0.7761 - val_accuracy: 0.8833\n",
            "WARNING:tensorflow:Can save best model only with val_acc available, skipping.\n",
            "Epoch 7/3000\n",
            "7/7 [==============================] - 5s 762ms/step - loss: 0.7480 - accuracy: 0.8313 - val_loss: 0.5816 - val_accuracy: 0.7167\n",
            "WARNING:tensorflow:Can save best model only with val_acc available, skipping.\n",
            "Epoch 8/3000\n",
            "7/7 [==============================] - 5s 758ms/step - loss: 1.6777 - accuracy: 0.3390 - val_loss: 0.2275 - val_accuracy: 1.0000\n",
            "WARNING:tensorflow:Can save best model only with val_acc available, skipping.\n",
            "Epoch 9/3000\n",
            "7/7 [==============================] - 5s 676ms/step - loss: 1.4170 - accuracy: 0.4452 - val_loss: 0.5008 - val_accuracy: 0.9167\n",
            "WARNING:tensorflow:Can save best model only with val_acc available, skipping.\n",
            "Epoch 10/3000\n",
            "7/7 [==============================] - 5s 760ms/step - loss: 1.1192 - accuracy: 0.5612 - val_loss: 0.6056 - val_accuracy: 0.8167\n",
            "WARNING:tensorflow:Can save best model only with val_acc available, skipping.\n",
            "Epoch 11/3000\n",
            "7/7 [==============================] - 5s 760ms/step - loss: 0.9246 - accuracy: 0.7180 - val_loss: 0.8920 - val_accuracy: 0.7167\n",
            "WARNING:tensorflow:Can save best model only with val_acc available, skipping.\n",
            "Epoch 12/3000\n",
            "7/7 [==============================] - 5s 762ms/step - loss: 0.6247 - accuracy: 0.8274 - val_loss: 0.4076 - val_accuracy: 0.8333\n",
            "WARNING:tensorflow:Can save best model only with val_acc available, skipping.\n",
            "Epoch 13/3000\n",
            "7/7 [==============================] - 5s 754ms/step - loss: 1.0653 - accuracy: 0.6089 - val_loss: 0.4483 - val_accuracy: 0.8167\n",
            "WARNING:tensorflow:Can save best model only with val_acc available, skipping.\n",
            "Epoch 14/3000\n",
            "7/7 [==============================] - 6s 836ms/step - loss: 0.7754 - accuracy: 0.6871 - val_loss: 0.4571 - val_accuracy: 0.8333\n",
            "WARNING:tensorflow:Can save best model only with val_acc available, skipping.\n",
            "Epoch 15/3000\n",
            "7/7 [==============================] - 6s 823ms/step - loss: 0.9495 - accuracy: 0.5895 - val_loss: 0.5074 - val_accuracy: 0.8000\n",
            "WARNING:tensorflow:Can save best model only with val_acc available, skipping.\n",
            "Epoch 16/3000\n",
            "7/7 [==============================] - 6s 810ms/step - loss: 1.0629 - accuracy: 0.6460 - val_loss: 0.6254 - val_accuracy: 0.7167\n",
            "WARNING:tensorflow:Can save best model only with val_acc available, skipping.\n",
            "Epoch 17/3000\n",
            "7/7 [==============================] - 5s 760ms/step - loss: 0.7551 - accuracy: 0.7063 - val_loss: 0.2250 - val_accuracy: 0.9167\n",
            "WARNING:tensorflow:Can save best model only with val_acc available, skipping.\n",
            "Epoch 18/3000\n",
            "7/7 [==============================] - 5s 774ms/step - loss: 0.5859 - accuracy: 0.7843 - val_loss: 0.5314 - val_accuracy: 0.7833\n",
            "WARNING:tensorflow:Can save best model only with val_acc available, skipping.\n",
            "Epoch 19/3000\n",
            "7/7 [==============================] - 5s 668ms/step - loss: 0.7766 - accuracy: 0.6727 - val_loss: 0.6384 - val_accuracy: 0.7667\n",
            "WARNING:tensorflow:Can save best model only with val_acc available, skipping.\n",
            "Epoch 20/3000\n",
            "7/7 [==============================] - 5s 765ms/step - loss: 0.8454 - accuracy: 0.6918 - val_loss: 1.4408 - val_accuracy: 0.4833\n",
            "WARNING:tensorflow:Can save best model only with val_acc available, skipping.\n",
            "Epoch 21/3000\n",
            "7/7 [==============================] - 5s 754ms/step - loss: 0.7229 - accuracy: 0.7312 - val_loss: 1.1621 - val_accuracy: 0.5667\n",
            "WARNING:tensorflow:Can save best model only with val_acc available, skipping.\n",
            "Epoch 22/3000\n",
            "7/7 [==============================] - 5s 758ms/step - loss: 0.6978 - accuracy: 0.7047 - val_loss: 1.4200 - val_accuracy: 0.4833\n",
            "WARNING:tensorflow:Can save best model only with val_acc available, skipping.\n",
            "Epoch 23/3000\n",
            "7/7 [==============================] - 5s 794ms/step - loss: 0.8497 - accuracy: 0.6898 - val_loss: 0.8784 - val_accuracy: 0.6167\n",
            "WARNING:tensorflow:Can save best model only with val_acc available, skipping.\n",
            "Epoch 24/3000\n",
            "7/7 [==============================] - 6s 812ms/step - loss: 0.6835 - accuracy: 0.7673 - val_loss: 0.8801 - val_accuracy: 0.6667\n",
            "WARNING:tensorflow:Can save best model only with val_acc available, skipping.\n",
            "Epoch 25/3000\n",
            "7/7 [==============================] - 6s 808ms/step - loss: 1.1951 - accuracy: 0.5436 - val_loss: 0.5316 - val_accuracy: 0.8000\n",
            "WARNING:tensorflow:Can save best model only with val_acc available, skipping.\n",
            "Epoch 26/3000\n",
            "7/7 [==============================] - 5s 767ms/step - loss: 0.5469 - accuracy: 0.8470 - val_loss: 0.7573 - val_accuracy: 0.6833\n",
            "WARNING:tensorflow:Can save best model only with val_acc available, skipping.\n",
            "Epoch 27/3000\n",
            "7/7 [==============================] - 5s 675ms/step - loss: 0.7309 - accuracy: 0.7211 - val_loss: 0.9959 - val_accuracy: 0.6167\n",
            "WARNING:tensorflow:Can save best model only with val_acc available, skipping.\n",
            "Epoch 00027: early stopping\n"
          ],
          "name": "stdout"
        },
        {
          "output_type": "execute_result",
          "data": {
            "text/plain": [
              "<keras.callbacks.History at 0x7fdbd32f1b90>"
            ]
          },
          "metadata": {
            "tags": []
          },
          "execution_count": 227
        }
      ]
    },
    {
      "cell_type": "markdown",
      "metadata": {
        "id": "sEvy8D6HtjFI"
      },
      "source": [
        "**Final Model: VGG16**"
      ]
    },
    {
      "cell_type": "code",
      "metadata": {
        "id": "ivIXCGA4n073"
      },
      "source": [
        "#Load the best performed MobileNet model\n",
        "vgg_source = '/content/drive/MyDrive/Colab Notebooks/image_classification/models/JULY7_VGG16_V2'"
      ],
      "execution_count": 24,
      "outputs": []
    },
    {
      "cell_type": "code",
      "metadata": {
        "id": "1o8CCl39pGMr"
      },
      "source": [
        "vgg_final = load_model(vgg_source)"
      ],
      "execution_count": 25,
      "outputs": []
    },
    {
      "cell_type": "code",
      "metadata": {
        "colab": {
          "base_uri": "https://localhost:8080/"
        },
        "id": "iM6pbds4NzKJ",
        "outputId": "9c003e52-eb38-4b9a-cd9e-b4f068f79aeb"
      },
      "source": [
        "history = vgg_final.fit(train_generator_VGG, epochs=50, callbacks=[es,mc], validation_data=validation_generator_VGG)"
      ],
      "execution_count": 35,
      "outputs": [
        {
          "output_type": "stream",
          "text": [
            "Epoch 1/50\n",
            "48/48 [==============================] - 366s 7s/step - loss: 0.3685 - accuracy: 0.8608 - val_loss: 0.5258 - val_accuracy: 0.8529\n",
            "WARNING:tensorflow:Can save best model only with val_acc available, skipping.\n",
            "Epoch 2/50\n",
            "48/48 [==============================] - 20s 408ms/step - loss: 0.3328 - accuracy: 0.8841 - val_loss: 0.5323 - val_accuracy: 0.8469\n",
            "WARNING:tensorflow:Can save best model only with val_acc available, skipping.\n",
            "Epoch 3/50\n",
            "48/48 [==============================] - 19s 405ms/step - loss: 0.3436 - accuracy: 0.8834 - val_loss: 0.5366 - val_accuracy: 0.8370\n",
            "WARNING:tensorflow:Can save best model only with val_acc available, skipping.\n",
            "Epoch 4/50\n",
            "48/48 [==============================] - 20s 407ms/step - loss: 0.2986 - accuracy: 0.8912 - val_loss: 0.5409 - val_accuracy: 0.8429\n",
            "WARNING:tensorflow:Can save best model only with val_acc available, skipping.\n",
            "Epoch 5/50\n",
            "48/48 [==============================] - 19s 403ms/step - loss: 0.3115 - accuracy: 0.8905 - val_loss: 0.5383 - val_accuracy: 0.8489\n",
            "WARNING:tensorflow:Can save best model only with val_acc available, skipping.\n",
            "Epoch 6/50\n",
            "48/48 [==============================] - 19s 403ms/step - loss: 0.3334 - accuracy: 0.8848 - val_loss: 0.5508 - val_accuracy: 0.8410\n",
            "WARNING:tensorflow:Can save best model only with val_acc available, skipping.\n",
            "Epoch 00006: early stopping\n"
          ],
          "name": "stdout"
        }
      ]
    },
    {
      "cell_type": "code",
      "metadata": {
        "id": "usIiYCem-g9X"
      },
      "source": [
        "Y_pred = vgg_final.predict(validation_generator_VGG)\n",
        "\n",
        "y_pred = np.argmax(Y_pred, axis=1)"
      ],
      "execution_count": 36,
      "outputs": []
    },
    {
      "cell_type": "code",
      "metadata": {
        "id": "WKiDpsOJOzE-"
      },
      "source": [
        "cm = confusion_matrix(validation_generator_VGG.classes, y_pred)"
      ],
      "execution_count": 37,
      "outputs": []
    },
    {
      "cell_type": "code",
      "metadata": {
        "id": "uI6hbbmqOzPv"
      },
      "source": [
        "waste_types = ['cardboard','glass','metal','paper','plastic','trash']\n",
        "\n",
        "df_cm = pd.DataFrame(cm,waste_types,waste_types)"
      ],
      "execution_count": 38,
      "outputs": []
    },
    {
      "cell_type": "code",
      "metadata": {
        "colab": {
          "base_uri": "https://localhost:8080/",
          "height": 500
        },
        "id": "r89bXSH6OzSd",
        "outputId": "8b854b06-eafb-4daf-d4d1-52358eabcd1d"
      },
      "source": [
        "plt.figure(figsize=(10,8))\n",
        "sns.heatmap(df_cm,annot=True,fmt=\"d\",cmap=\"YlGnBu\")"
      ],
      "execution_count": 39,
      "outputs": [
        {
          "output_type": "execute_result",
          "data": {
            "text/plain": [
              "<matplotlib.axes._subplots.AxesSubplot at 0x7f33604574d0>"
            ]
          },
          "metadata": {
            "tags": []
          },
          "execution_count": 39
        },
        {
          "output_type": "display_data",
          "data": {
            "image/png": "[encoded data removed]",
            "text/plain": [
              "<Figure size 720x576 with 2 Axes>"
            ]
          },
          "metadata": {
            "tags": [],
            "needs_background": "light"
          }
        }
      ]
    },
    {
      "cell_type": "code",
      "metadata": {
        "id": "R2eH8kvJOzU0"
      },
      "source": [
        "correct = 0\n",
        "\n",
        "for r in range(len(cm)):\n",
        "    for c in range(len(cm)):\n",
        "        if(r==c):\n",
        "            correct += cm[r,c]"
      ],
      "execution_count": 40,
      "outputs": []
    },
    {
      "cell_type": "code",
      "metadata": {
        "colab": {
          "base_uri": "https://localhost:8080/"
        },
        "id": "uD9G98KAOzXc",
        "outputId": "0cfd14d8-5b00-4a49-a5aa-20fa3fa77581"
      },
      "source": [
        "correct/sum(sum(cm))"
      ],
      "execution_count": 41,
      "outputs": [
        {
          "output_type": "execute_result",
          "data": {
            "text/plain": [
              "0.8409542743538767"
            ]
          },
          "metadata": {
            "tags": []
          },
          "execution_count": 41
        }
      ]
    },
    {
      "cell_type": "code",
      "metadata": {
        "colab": {
          "base_uri": "https://localhost:8080/",
          "height": 421
        },
        "id": "PvecDzGGnd6A",
        "outputId": "1bc626e8-2ff0-4682-81c3-33a530689785"
      },
      "source": [
        "plt.figure(figsize= (10,6))\n",
        "\n",
        "plt.plot(history.history['accuracy'])\n",
        "plt.plot(history.history['val_accuracy'])\n",
        "\n",
        "plt.title('Accuracy vs. Training Epoch')\n",
        "plt.xlabel('Epoch')\n",
        "plt.ylabel('Accuracy')\n",
        "plt.legend(['Train','Validation'])"
      ],
      "execution_count": 42,
      "outputs": [
        {
          "output_type": "execute_result",
          "data": {
            "text/plain": [
              "<matplotlib.legend.Legend at 0x7f335fabc890>"
            ]
          },
          "metadata": {
            "tags": []
          },
          "execution_count": 42
        },
        {
          "output_type": "display_data",
          "data": {
            "image/png": "[encoded data removed]",
            "text/plain": [
              "<Figure size 720x432 with 1 Axes>"
            ]
          },
          "metadata": {
            "tags": [],
            "needs_background": "light"
          }
        }
      ]
    },
    {
      "cell_type": "code",
      "metadata": {
        "id": "hXrsgKKRAERg"
      },
      "source": [
        "pre_outputs = pd.DataFrame(zip(y_pred, validation_generator_VGG.labels), columns = {'pred_label', 'actual_label'})"
      ],
      "execution_count": 43,
      "outputs": []
    },
    {
      "cell_type": "code",
      "metadata": {
        "colab": {
          "base_uri": "https://localhost:8080/",
          "height": 419
        },
        "id": "gWjZmEOFAIJH",
        "outputId": "bbe5338c-c461-4b77-b7f9-5fb2c480de8a"
      },
      "source": [
        "pre_outputs"
      ],
      "execution_count": 44,
      "outputs": [
        {
          "output_type": "execute_result",
          "data": {
            "text/html": [
              "<div>\n",
              "<style scoped>\n",
              "    .dataframe tbody tr th:only-of-type {\n",
              "        vertical-align: middle;\n",
              "    }\n",
              "\n",
              "    .dataframe tbody tr th {\n",
              "        vertical-align: top;\n",
              "    }\n",
              "\n",
              "    .dataframe thead th {\n",
              "        text-align: right;\n",
              "    }\n",
              "</style>\n",
              "<table border=\"1\" class=\"dataframe\">\n",
              "  <thead>\n",
              "    <tr style=\"text-align: right;\">\n",
              "      <th></th>\n",
              "      <th>actual_label</th>\n",
              "      <th>pred_label</th>\n",
              "    </tr>\n",
              "  </thead>\n",
              "  <tbody>\n",
              "    <tr>\n",
              "      <th>0</th>\n",
              "      <td>0</td>\n",
              "      <td>0</td>\n",
              "    </tr>\n",
              "    <tr>\n",
              "      <th>1</th>\n",
              "      <td>0</td>\n",
              "      <td>0</td>\n",
              "    </tr>\n",
              "    <tr>\n",
              "      <th>2</th>\n",
              "      <td>0</td>\n",
              "      <td>0</td>\n",
              "    </tr>\n",
              "    <tr>\n",
              "      <th>3</th>\n",
              "      <td>0</td>\n",
              "      <td>0</td>\n",
              "    </tr>\n",
              "    <tr>\n",
              "      <th>4</th>\n",
              "      <td>2</td>\n",
              "      <td>0</td>\n",
              "    </tr>\n",
              "    <tr>\n",
              "      <th>...</th>\n",
              "      <td>...</td>\n",
              "      <td>...</td>\n",
              "    </tr>\n",
              "    <tr>\n",
              "      <th>498</th>\n",
              "      <td>1</td>\n",
              "      <td>5</td>\n",
              "    </tr>\n",
              "    <tr>\n",
              "      <th>499</th>\n",
              "      <td>5</td>\n",
              "      <td>5</td>\n",
              "    </tr>\n",
              "    <tr>\n",
              "      <th>500</th>\n",
              "      <td>0</td>\n",
              "      <td>5</td>\n",
              "    </tr>\n",
              "    <tr>\n",
              "      <th>501</th>\n",
              "      <td>5</td>\n",
              "      <td>5</td>\n",
              "    </tr>\n",
              "    <tr>\n",
              "      <th>502</th>\n",
              "      <td>3</td>\n",
              "      <td>5</td>\n",
              "    </tr>\n",
              "  </tbody>\n",
              "</table>\n",
              "<p>503 rows × 2 columns</p>\n",
              "</div>"
            ],
            "text/plain": [
              "     actual_label  pred_label\n",
              "0               0           0\n",
              "1               0           0\n",
              "2               0           0\n",
              "3               0           0\n",
              "4               2           0\n",
              "..            ...         ...\n",
              "498             1           5\n",
              "499             5           5\n",
              "500             0           5\n",
              "501             5           5\n",
              "502             3           5\n",
              "\n",
              "[503 rows x 2 columns]"
            ]
          },
          "metadata": {
            "tags": []
          },
          "execution_count": 44
        }
      ]
    },
    {
      "cell_type": "code",
      "metadata": {
        "colab": {
          "base_uri": "https://localhost:8080/",
          "height": 419
        },
        "id": "oeiBvaVB2J3-",
        "outputId": "cd7b33f2-f2c0-4915-c420-b84dfa0d0284"
      },
      "source": [
        "pre_outputs[pre_outputs['pred_label'] != pre_outputs['actual_label']]"
      ],
      "execution_count": 45,
      "outputs": [
        {
          "output_type": "execute_result",
          "data": {
            "text/html": [
              "<div>\n",
              "<style scoped>\n",
              "    .dataframe tbody tr th:only-of-type {\n",
              "        vertical-align: middle;\n",
              "    }\n",
              "\n",
              "    .dataframe tbody tr th {\n",
              "        vertical-align: top;\n",
              "    }\n",
              "\n",
              "    .dataframe thead th {\n",
              "        text-align: right;\n",
              "    }\n",
              "</style>\n",
              "<table border=\"1\" class=\"dataframe\">\n",
              "  <thead>\n",
              "    <tr style=\"text-align: right;\">\n",
              "      <th></th>\n",
              "      <th>actual_label</th>\n",
              "      <th>pred_label</th>\n",
              "    </tr>\n",
              "  </thead>\n",
              "  <tbody>\n",
              "    <tr>\n",
              "      <th>4</th>\n",
              "      <td>2</td>\n",
              "      <td>0</td>\n",
              "    </tr>\n",
              "    <tr>\n",
              "      <th>7</th>\n",
              "      <td>5</td>\n",
              "      <td>0</td>\n",
              "    </tr>\n",
              "    <tr>\n",
              "      <th>12</th>\n",
              "      <td>3</td>\n",
              "      <td>0</td>\n",
              "    </tr>\n",
              "    <tr>\n",
              "      <th>18</th>\n",
              "      <td>3</td>\n",
              "      <td>0</td>\n",
              "    </tr>\n",
              "    <tr>\n",
              "      <th>22</th>\n",
              "      <td>3</td>\n",
              "      <td>0</td>\n",
              "    </tr>\n",
              "    <tr>\n",
              "      <th>...</th>\n",
              "      <td>...</td>\n",
              "      <td>...</td>\n",
              "    </tr>\n",
              "    <tr>\n",
              "      <th>494</th>\n",
              "      <td>0</td>\n",
              "      <td>5</td>\n",
              "    </tr>\n",
              "    <tr>\n",
              "      <th>495</th>\n",
              "      <td>3</td>\n",
              "      <td>5</td>\n",
              "    </tr>\n",
              "    <tr>\n",
              "      <th>498</th>\n",
              "      <td>1</td>\n",
              "      <td>5</td>\n",
              "    </tr>\n",
              "    <tr>\n",
              "      <th>500</th>\n",
              "      <td>0</td>\n",
              "      <td>5</td>\n",
              "    </tr>\n",
              "    <tr>\n",
              "      <th>502</th>\n",
              "      <td>3</td>\n",
              "      <td>5</td>\n",
              "    </tr>\n",
              "  </tbody>\n",
              "</table>\n",
              "<p>80 rows × 2 columns</p>\n",
              "</div>"
            ],
            "text/plain": [
              "     actual_label  pred_label\n",
              "4               2           0\n",
              "7               5           0\n",
              "12              3           0\n",
              "18              3           0\n",
              "22              3           0\n",
              "..            ...         ...\n",
              "494             0           5\n",
              "495             3           5\n",
              "498             1           5\n",
              "500             0           5\n",
              "502             3           5\n",
              "\n",
              "[80 rows x 2 columns]"
            ]
          },
          "metadata": {
            "tags": []
          },
          "execution_count": 45
        }
      ]
    },
    {
      "cell_type": "code",
      "metadata": {
        "id": "72PvakNRJeaS"
      },
      "source": [
        "pre_outputs.to_csv(r'/content/drive/MyDrive/Colab Notebooks/image_classification/pre_outputs.csv', index = False)"
      ],
      "execution_count": 50,
      "outputs": []
    },
    {
      "cell_type": "code",
      "metadata": {
        "colab": {
          "base_uri": "https://localhost:8080/"
        },
        "id": "omtO8RK22SpR",
        "outputId": "e19dabb0-24ee-401d-d74d-eb347a700e54"
      },
      "source": [
        "top1 = 0.0\n",
        "top3 = 0.0    \n",
        "\n",
        "class_probs = vgg_final.predict(validation_generator_VGG)\n",
        "for i, l in enumerate(validation_generator_VGG.labels):\n",
        "    class_prob = class_probs[i]\n",
        "    top_values = (-class_prob).argsort()[:3]\n",
        "    if top_values[0] == l:\n",
        "        top1 += 1.0\n",
        "    if np.isin(np.array([l]), top_values):\n",
        "        top3 += 1.0\n",
        "\n",
        "print(\"top1 acc\", top1/len(validation_generator_VGG.labels))\n",
        "print(\"top3 acc\", top3/len(validation_generator_VGG.labels))"
      ],
      "execution_count": 60,
      "outputs": [
        {
          "output_type": "stream",
          "text": [
            "top1 acc 0.8409542743538767\n",
            "top3 acc 0.9801192842942346\n"
          ],
          "name": "stdout"
        }
      ]
    },
    {
      "cell_type": "code",
      "metadata": {
        "id": "ADKlWV4NUbgp"
      },
      "source": [
        ""
      ],
      "execution_count": null,
      "outputs": []
    }
  ]
}